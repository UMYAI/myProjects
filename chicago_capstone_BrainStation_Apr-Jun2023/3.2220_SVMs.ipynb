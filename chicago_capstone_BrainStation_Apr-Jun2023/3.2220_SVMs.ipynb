{
 "cells": [
  {
   "attachments": {},
   "cell_type": "markdown",
   "id": "394002bb",
   "metadata": {},
   "source": [
    "This file is about the Support Vector Machines(SVMs)\n",
    "- validation\n",
    "- scale and transform\n",
    "- exploring the C value\n",
    "- an accurecy score\n",
    "- confusion matrix and a report\n",
    "\n",
    "Until the line, above **model**, code are the same for all 4 files for models"
   ]
  },
  {
   "cell_type": "code",
   "execution_count": 24,
   "id": "58afef0a",
   "metadata": {},
   "outputs": [],
   "source": [
    "import numpy as np\n",
    "import pandas as pd\n",
    "\n",
    "import matplotlib.pyplot as plt\n",
    "\n",
    "from sklearn.model_selection import train_test_split\n",
    "from sklearn.preprocessing import StandardScaler\n",
    "from sklearn.linear_model import LogisticRegression\n",
    "from sklearn.svm import LinearSVC\n",
    "\n",
    "from sklearn.metrics import confusion_matrix, ConfusionMatrixDisplay\n",
    "\n",
    "#from 2.1_0_models_quick.ipynb\n",
    "%store -r df_models_valid"
   ]
  },
  {
   "cell_type": "code",
   "execution_count": 25,
   "id": "8240ccc6",
   "metadata": {},
   "outputs": [
    {
     "name": "stdout",
     "output_type": "stream",
     "text": [
      "(46090, 652)\n"
     ]
    },
    {
     "data": {
      "text/html": [
       "<div>\n",
       "<style scoped>\n",
       "    .dataframe tbody tr th:only-of-type {\n",
       "        vertical-align: middle;\n",
       "    }\n",
       "\n",
       "    .dataframe tbody tr th {\n",
       "        vertical-align: top;\n",
       "    }\n",
       "\n",
       "    .dataframe thead th {\n",
       "        text-align: right;\n",
       "    }\n",
       "</style>\n",
       "<table border=\"1\" class=\"dataframe\">\n",
       "  <thead>\n",
       "    <tr style=\"text-align: right;\">\n",
       "      <th></th>\n",
       "      <th>Arrest</th>\n",
       "      <th>Domestic</th>\n",
       "      <th>Crimes Against</th>\n",
       "      <th>beat_no</th>\n",
       "      <th>Location Description_AIRCRAFT</th>\n",
       "      <th>Location Description_AIRPORT BUILDING NON-TERMINAL - NON-SECURE AREA</th>\n",
       "      <th>Location Description_AIRPORT BUILDING NON-TERMINAL - SECURE AREA</th>\n",
       "      <th>Location Description_AIRPORT EXTERIOR - NON-SECURE AREA</th>\n",
       "      <th>Location Description_AIRPORT EXTERIOR - SECURE AREA</th>\n",
       "      <th>Location Description_AIRPORT PARKING LOT</th>\n",
       "      <th>...</th>\n",
       "      <th>Community Area_72.0</th>\n",
       "      <th>Community Area_73.0</th>\n",
       "      <th>Community Area_74.0</th>\n",
       "      <th>Community Area_75.0</th>\n",
       "      <th>Community Area_76.0</th>\n",
       "      <th>Community Area_77.0</th>\n",
       "      <th>Year</th>\n",
       "      <th>Month</th>\n",
       "      <th>Day</th>\n",
       "      <th>Hour</th>\n",
       "    </tr>\n",
       "  </thead>\n",
       "  <tbody>\n",
       "    <tr>\n",
       "      <th>3210128</th>\n",
       "      <td>1</td>\n",
       "      <td>1</td>\n",
       "      <td>Persons</td>\n",
       "      <td>12</td>\n",
       "      <td>0</td>\n",
       "      <td>0</td>\n",
       "      <td>0</td>\n",
       "      <td>0</td>\n",
       "      <td>0</td>\n",
       "      <td>0</td>\n",
       "      <td>...</td>\n",
       "      <td>0</td>\n",
       "      <td>0</td>\n",
       "      <td>0</td>\n",
       "      <td>0</td>\n",
       "      <td>0</td>\n",
       "      <td>0</td>\n",
       "      <td>2003</td>\n",
       "      <td>8</td>\n",
       "      <td>15</td>\n",
       "      <td>22</td>\n",
       "    </tr>\n",
       "    <tr>\n",
       "      <th>2571066</th>\n",
       "      <td>1</td>\n",
       "      <td>0</td>\n",
       "      <td>Society</td>\n",
       "      <td>15</td>\n",
       "      <td>0</td>\n",
       "      <td>0</td>\n",
       "      <td>0</td>\n",
       "      <td>0</td>\n",
       "      <td>0</td>\n",
       "      <td>0</td>\n",
       "      <td>...</td>\n",
       "      <td>0</td>\n",
       "      <td>0</td>\n",
       "      <td>0</td>\n",
       "      <td>0</td>\n",
       "      <td>0</td>\n",
       "      <td>0</td>\n",
       "      <td>2011</td>\n",
       "      <td>10</td>\n",
       "      <td>6</td>\n",
       "      <td>0</td>\n",
       "    </tr>\n",
       "  </tbody>\n",
       "</table>\n",
       "<p>2 rows × 652 columns</p>\n",
       "</div>"
      ],
      "text/plain": [
       "         Arrest  Domestic Crimes Against  beat_no  \\\n",
       "3210128       1         1        Persons       12   \n",
       "2571066       1         0        Society       15   \n",
       "\n",
       "         Location Description_AIRCRAFT  \\\n",
       "3210128                              0   \n",
       "2571066                              0   \n",
       "\n",
       "         Location Description_AIRPORT BUILDING NON-TERMINAL - NON-SECURE AREA  \\\n",
       "3210128                                                  0                      \n",
       "2571066                                                  0                      \n",
       "\n",
       "         Location Description_AIRPORT BUILDING NON-TERMINAL - SECURE AREA  \\\n",
       "3210128                                                  0                  \n",
       "2571066                                                  0                  \n",
       "\n",
       "         Location Description_AIRPORT EXTERIOR - NON-SECURE AREA  \\\n",
       "3210128                                                  0         \n",
       "2571066                                                  0         \n",
       "\n",
       "         Location Description_AIRPORT EXTERIOR - SECURE AREA  \\\n",
       "3210128                                                  0     \n",
       "2571066                                                  0     \n",
       "\n",
       "         Location Description_AIRPORT PARKING LOT  ...  Community Area_72.0  \\\n",
       "3210128                                         0  ...                    0   \n",
       "2571066                                         0  ...                    0   \n",
       "\n",
       "         Community Area_73.0  Community Area_74.0  Community Area_75.0  \\\n",
       "3210128                    0                    0                    0   \n",
       "2571066                    0                    0                    0   \n",
       "\n",
       "         Community Area_76.0  Community Area_77.0  Year  Month  Day  Hour  \n",
       "3210128                    0                    0  2003      8   15    22  \n",
       "2571066                    0                    0  2011     10    6     0  \n",
       "\n",
       "[2 rows x 652 columns]"
      ]
     },
     "execution_count": 25,
     "metadata": {},
     "output_type": "execute_result"
    }
   ],
   "source": [
    "#make a new datafram by coping <df2_dammy>\n",
    "df_valid = df_models_valid.copy()\n",
    "print(df_valid.shape)\n",
    "df_valid.head(2)"
   ]
  },
  {
   "attachments": {},
   "cell_type": "markdown",
   "id": "01dd4ad7-ec21-4f79-8bbf-afbf0d3023f3",
   "metadata": {
    "tags": []
   },
   "source": [
    "##### validation"
   ]
  },
  {
   "cell_type": "code",
   "execution_count": 26,
   "id": "db32470c",
   "metadata": {},
   "outputs": [],
   "source": [
    "#target\n",
    "y2 = pd.factorize(df_valid['Crimes Against'])[0]\n",
    "# Convert Categorical Attributes to Numerical\n",
    "#https://www.kaggle.com/code/heng8835/classification-with-ml-predict-crime-type\n",
    "\n",
    "#features\n",
    "X2 = df_valid.drop(columns='Crimes Against')"
   ]
  },
  {
   "cell_type": "code",
   "execution_count": 27,
   "id": "cc175172",
   "metadata": {},
   "outputs": [
    {
     "data": {
      "text/plain": [
       "array([0, 1, 2, ..., 0, 2, 0], dtype=int64)"
      ]
     },
     "execution_count": 27,
     "metadata": {},
     "output_type": "execute_result"
    }
   ],
   "source": [
    "y2"
   ]
  },
  {
   "cell_type": "code",
   "execution_count": 28,
   "id": "6d2ee3ab",
   "metadata": {},
   "outputs": [
    {
     "data": {
      "text/html": [
       "<div>\n",
       "<style scoped>\n",
       "    .dataframe tbody tr th:only-of-type {\n",
       "        vertical-align: middle;\n",
       "    }\n",
       "\n",
       "    .dataframe tbody tr th {\n",
       "        vertical-align: top;\n",
       "    }\n",
       "\n",
       "    .dataframe thead th {\n",
       "        text-align: right;\n",
       "    }\n",
       "</style>\n",
       "<table border=\"1\" class=\"dataframe\">\n",
       "  <thead>\n",
       "    <tr style=\"text-align: right;\">\n",
       "      <th></th>\n",
       "      <th>y2</th>\n",
       "    </tr>\n",
       "  </thead>\n",
       "  <tbody>\n",
       "    <tr>\n",
       "      <th>0</th>\n",
       "      <td>0</td>\n",
       "    </tr>\n",
       "    <tr>\n",
       "      <th>1</th>\n",
       "      <td>1</td>\n",
       "    </tr>\n",
       "    <tr>\n",
       "      <th>2</th>\n",
       "      <td>2</td>\n",
       "    </tr>\n",
       "    <tr>\n",
       "      <th>3</th>\n",
       "      <td>0</td>\n",
       "    </tr>\n",
       "    <tr>\n",
       "      <th>4</th>\n",
       "      <td>0</td>\n",
       "    </tr>\n",
       "  </tbody>\n",
       "</table>\n",
       "</div>"
      ],
      "text/plain": [
       "   y2\n",
       "0   0\n",
       "1   1\n",
       "2   2\n",
       "3   0\n",
       "4   0"
      ]
     },
     "execution_count": 28,
     "metadata": {},
     "output_type": "execute_result"
    }
   ],
   "source": [
    "crimesAgainst = pd.DataFrame({'y2': y2})\n",
    "crimesAgainst.head()"
   ]
  },
  {
   "cell_type": "code",
   "execution_count": 29,
   "id": "7359dfa2",
   "metadata": {},
   "outputs": [
    {
     "data": {
      "text/plain": [
       "<Figure size 640x480 with 0 Axes>"
      ]
     },
     "metadata": {},
     "output_type": "display_data"
    },
    {
     "data": {
      "image/png": "[encoded data removed]",
      "text/plain": [
       "<Figure size 400x400 with 1 Axes>"
      ]
     },
     "metadata": {},
     "output_type": "display_data"
    },
    {
     "data": {
      "image/png": "[encoded data removed]",
      "text/plain": [
       "<Figure size 400x400 with 1 Axes>"
      ]
     },
     "metadata": {},
     "output_type": "display_data"
    }
   ],
   "source": [
    "#https://matplotlib.org/stable/gallery/lines_bars_and_markers/bar_label_demo.html\n",
    "\n",
    "#\n",
    "crimes_Against = crimesAgainst['y2'].value_counts()\n",
    "percent = crimes_Against/crimesAgainst.shape[0]*100\n",
    "\n",
    "#plot with bar\n",
    "plt.figure()\n",
    "\n",
    "#numbers\n",
    "crims = list(crimes_Against.index)\n",
    "counts = list(crimes_Against.values)\n",
    "\n",
    "fig, ax = plt.subplots(figsize = (4,4))\n",
    "bar_container = ax.bar(crims, counts)\n",
    "ax.set(xlabel='Crimes Against', ylabel='Number of crimes', title='Distribution of The Type of Crims Against')\n",
    "ax.bar_label(bar_container, fmt='{:,.0f}')\n",
    "\n",
    "\n",
    "#percentages\n",
    "fig, ax = plt.subplots(figsize = (4,4))\n",
    "bar_container = ax.bar(list(percent.index), list(percent.values))\n",
    "ax.set(xlabel='Crimes Against', ylabel='Number of crimes (%)', title='Distribution of The Type of Crims Against')\n",
    "ax.bar_label(bar_container, fmt='{:0.2f}')\n",
    "\n",
    "plt.show()"
   ]
  },
  {
   "attachments": {},
   "cell_type": "markdown",
   "id": "1e16d673",
   "metadata": {},
   "source": [
    "x-axis: 0.0, 1.0, 2.0 in the graphes above --> 'Person', 'Society', 'Property'"
   ]
  },
  {
   "cell_type": "code",
   "execution_count": 30,
   "id": "af30bfb9",
   "metadata": {},
   "outputs": [],
   "source": [
    "# Taking a chunk for the 20% test set\n",
    "X2_remainder, X2_test, y2_remainder, y2_test = train_test_split(\n",
    "                                        X2, y2, test_size = 0.2, stratify=y2, random_state=1)"
   ]
  },
  {
   "attachments": {},
   "cell_type": "markdown",
   "id": "057410d9",
   "metadata": {},
   "source": [
    "- `X_remainder` and `y_remainder`: $80$%\n",
    "- `X_test` and `y_test`: $20$%"
   ]
  },
  {
   "cell_type": "code",
   "execution_count": 31,
   "id": "735de264",
   "metadata": {},
   "outputs": [
    {
     "data": {
      "text/plain": [
       "array([1, 2, 2, ..., 2, 1, 2], dtype=int64)"
      ]
     },
     "execution_count": 31,
     "metadata": {},
     "output_type": "execute_result"
    }
   ],
   "source": [
    "#y2_remainder\n",
    "y2_remainder"
   ]
  },
  {
   "cell_type": "code",
   "execution_count": 32,
   "id": "7ad8a704",
   "metadata": {},
   "outputs": [
    {
     "data": {
      "text/html": [
       "<div>\n",
       "<style scoped>\n",
       "    .dataframe tbody tr th:only-of-type {\n",
       "        vertical-align: middle;\n",
       "    }\n",
       "\n",
       "    .dataframe tbody tr th {\n",
       "        vertical-align: top;\n",
       "    }\n",
       "\n",
       "    .dataframe thead th {\n",
       "        text-align: right;\n",
       "    }\n",
       "</style>\n",
       "<table border=\"1\" class=\"dataframe\">\n",
       "  <thead>\n",
       "    <tr style=\"text-align: right;\">\n",
       "      <th></th>\n",
       "      <th>0</th>\n",
       "    </tr>\n",
       "  </thead>\n",
       "  <tbody>\n",
       "    <tr>\n",
       "      <th>0</th>\n",
       "      <td>1</td>\n",
       "    </tr>\n",
       "    <tr>\n",
       "      <th>1</th>\n",
       "      <td>2</td>\n",
       "    </tr>\n",
       "    <tr>\n",
       "      <th>2</th>\n",
       "      <td>2</td>\n",
       "    </tr>\n",
       "    <tr>\n",
       "      <th>3</th>\n",
       "      <td>0</td>\n",
       "    </tr>\n",
       "    <tr>\n",
       "      <th>4</th>\n",
       "      <td>1</td>\n",
       "    </tr>\n",
       "  </tbody>\n",
       "</table>\n",
       "</div>"
      ],
      "text/plain": [
       "   0\n",
       "0  1\n",
       "1  2\n",
       "2  2\n",
       "3  0\n",
       "4  1"
      ]
     },
     "execution_count": 32,
     "metadata": {},
     "output_type": "execute_result"
    }
   ],
   "source": [
    "#make a dataframe for 'y2_remainder'\n",
    "y_df = pd.DataFrame(y2_remainder)\n",
    "y_df.head()"
   ]
  },
  {
   "cell_type": "code",
   "execution_count": 33,
   "id": "3812b8b2",
   "metadata": {},
   "outputs": [],
   "source": [
    "# #\n",
    "# crimes_Against = y_df.value_counts()\n",
    "# percent = crimes_Against/crimesAgainst.shape[0]*100\n",
    "\n",
    "# #plot with bar\n",
    "# plt.figure()\n",
    "\n",
    "# #numbers\n",
    "# crims = list(crimes_Against.index)\n",
    "# counts = list(crimes_Against.values)\n",
    "\n",
    "# fig, ax = plt.subplots(figsize = (4,4))\n",
    "# bar_container = ax.bar(crims, counts)\n",
    "# ax.set(xlabel='Crimes Against', ylabel='Number of crimes', title='Distribution of The Type of Crims Against')\n",
    "# ax.bar_label(bar_container, fmt='{:,.0f}')\n",
    "\n",
    "\n",
    "# #percentages\n",
    "# fig, ax = plt.subplots(figsize = (4,4))\n",
    "# bar_container = ax.bar(list(percent.index), list(percent.values))\n",
    "# ax.set(xlabel='Crimes Against', ylabel='Number of crimes (%)', title='Distribution of The Type of Crims Against')\n",
    "# ax.bar_label(bar_container, fmt='{:0.2f}')\n",
    "\n",
    "# plt.show()\n",
    "\n",
    "### get an error but no time to check. skip this part. assume the destributios are the same"
   ]
  },
  {
   "cell_type": "code",
   "execution_count": 34,
   "id": "f3a7d8a2",
   "metadata": {},
   "outputs": [],
   "source": [
    "# Splitting the remainder in two chunks\n",
    "X2_train, X2_valid, y2_train, y2_valid = train_test_split(\n",
    "                        X2_remainder, y2_remainder, test_size = 0.3, stratify=y2_remainder, random_state=1)"
   ]
  },
  {
   "attachments": {},
   "cell_type": "markdown",
   "id": "b5d34f21",
   "metadata": {},
   "source": [
    "from the remainder set:\n",
    "- `X_train` and `y_train`: $70$% ( $56$% = $80$ * $70$ )\n",
    "- `X_valid` and `y_valid`: $30$% ( $24$% = $80$ * $30$ )"
   ]
  },
  {
   "cell_type": "code",
   "execution_count": 35,
   "id": "662931df",
   "metadata": {},
   "outputs": [
    {
     "name": "stdout",
     "output_type": "stream",
     "text": [
      "Expected sizes: train(25810.4), validation(11061.6), \ttest(9218.0)\n",
      "Actual sizes: \ttrain(25810), \tvalidation(11062), \ttest(9218)\n"
     ]
    }
   ],
   "source": [
    "#expected size\n",
    "print(f'Expected sizes: train({46090*0.56}), validation({46090*0.24}), \\ttest({46090*0.2})')\n",
    "#actual size\n",
    "print(f'Actual sizes: \\ttrain({X2_train.shape[0]}), \\tvalidation({X2_valid.shape[0]}), \\ttest({X2_test.shape[0]})')"
   ]
  },
  {
   "cell_type": "code",
   "execution_count": 36,
   "id": "a6d2e0a3",
   "metadata": {},
   "outputs": [
    {
     "data": {
      "text/plain": [
       "(25810, 651)"
      ]
     },
     "execution_count": 36,
     "metadata": {},
     "output_type": "execute_result"
    }
   ],
   "source": [
    "X2_train.shape"
   ]
  },
  {
   "attachments": {},
   "cell_type": "markdown",
   "id": "7484afed",
   "metadata": {},
   "source": [
    "---"
   ]
  },
  {
   "attachments": {},
   "cell_type": "markdown",
   "id": "69fdc65c",
   "metadata": {},
   "source": [
    "#### model"
   ]
  },
  {
   "cell_type": "code",
   "execution_count": 37,
   "id": "0e0c119d",
   "metadata": {},
   "outputs": [],
   "source": [
    "import warnings\n",
    "warnings.filterwarnings('ignore')"
   ]
  },
  {
   "cell_type": "code",
   "execution_count": 38,
   "id": "0bc7f5c5",
   "metadata": {},
   "outputs": [],
   "source": [
    "#scale\n",
    "scaler = StandardScaler()\n",
    "scaler.fit(X2_train)\n",
    "#transform\n",
    "X2_train_sc = scaler.transform(X2_train)\n",
    "X2_validation_sc = scaler.transform(X2_valid)\n",
    "X2_test_sc = scaler.transform(X2_test)"
   ]
  },
  {
   "cell_type": "code",
   "execution_count": 39,
   "id": "518df72f",
   "metadata": {},
   "outputs": [],
   "source": [
    "validation_scores = []\n",
    "train_scores = []\n",
    "\n",
    "# C_range = np.array([.00000001,.0000001,.000001,.00001,.0001,.001,0.1,\\\n",
    "#                 1,10,100,1000,10000,100000,1000000,10000000,100000000,1000000000])\n",
    "\n",
    "C_range = []\n",
    "for i in range(-8, 5):\n",
    "    C_range.append(10**i)\n",
    "\n",
    "for c in C_range:\n",
    "    logreg = LinearSVC(C = c,random_state=1)\n",
    "    logreg.fit(X2_train_sc,y2_train)\n",
    "    \n",
    "    # train on traning set\n",
    "    train_scores.append(logreg.score(X2_train_sc,y2_train))\n",
    "    # score on validation set\n",
    "    validation_scores.append(logreg.score(X2_validation_sc,y2_valid))"
   ]
  },
  {
   "cell_type": "code",
   "execution_count": 40,
   "id": "da2645e0",
   "metadata": {},
   "outputs": [
    {
     "data": {
      "image/png": "[encoded data removed]",
      "text/plain": [
       "<Figure size 640x480 with 1 Axes>"
      ]
     },
     "metadata": {},
     "output_type": "display_data"
    }
   ],
   "source": [
    "#visualize the scores\n",
    "plt.figure()\n",
    "plt.plot(C_range, train_scores,label=\"Train Score\",marker='.')\n",
    "plt.plot(C_range, validation_scores,label=\"Validation Scores\",marker='.')\n",
    "plt.xscale('log')\n",
    "plt.xlabel('C')\n",
    "plt.ylabel('Accuracy')\n",
    "plt.title('the Support Vector Machines (SVMs)')\n",
    "plt.legend()\n",
    "plt.show()"
   ]
  },
  {
   "cell_type": "code",
   "execution_count": 41,
   "id": "e9fa0f34",
   "metadata": {},
   "outputs": [
    {
     "name": "stdout",
     "output_type": "stream",
     "text": [
      "0.630\n"
     ]
    }
   ],
   "source": [
    "final_model = LogisticRegression(C=10**-4,random_state=1)\n",
    "\n",
    "final_model.fit(X2_train_sc, y2_train)\n",
    "print(f'{final_model.score(X2_test_sc,y2_test):0.3f}')"
   ]
  },
  {
   "cell_type": "code",
   "execution_count": 42,
   "id": "487fc8f9",
   "metadata": {},
   "outputs": [
    {
     "data": {
      "text/html": [
       "<div>\n",
       "<style scoped>\n",
       "    .dataframe tbody tr th:only-of-type {\n",
       "        vertical-align: middle;\n",
       "    }\n",
       "\n",
       "    .dataframe tbody tr th {\n",
       "        vertical-align: top;\n",
       "    }\n",
       "\n",
       "    .dataframe thead th {\n",
       "        text-align: right;\n",
       "    }\n",
       "</style>\n",
       "<table border=\"1\" class=\"dataframe\">\n",
       "  <thead>\n",
       "    <tr style=\"text-align: right;\">\n",
       "      <th></th>\n",
       "      <th>Predicted Person (0)</th>\n",
       "      <th>Predicted Society (1)</th>\n",
       "      <th>Predicted Property (2)</th>\n",
       "    </tr>\n",
       "  </thead>\n",
       "  <tbody>\n",
       "    <tr>\n",
       "      <th>Person</th>\n",
       "      <td>2876</td>\n",
       "      <td>624</td>\n",
       "      <td>235</td>\n",
       "    </tr>\n",
       "    <tr>\n",
       "      <th>Society</th>\n",
       "      <td>871</td>\n",
       "      <td>2184</td>\n",
       "      <td>185</td>\n",
       "    </tr>\n",
       "    <tr>\n",
       "      <th>Property</th>\n",
       "      <td>1211</td>\n",
       "      <td>281</td>\n",
       "      <td>751</td>\n",
       "    </tr>\n",
       "  </tbody>\n",
       "</table>\n",
       "</div>"
      ],
      "text/plain": [
       "          Predicted Person (0)  Predicted Society (1)  Predicted Property (2)\n",
       "Person                    2876                    624                     235\n",
       "Society                    871                   2184                     185\n",
       "Property                  1211                    281                     751"
      ]
     },
     "metadata": {},
     "output_type": "display_data"
    },
    {
     "data": {
      "text/plain": [
       "<sklearn.metrics._plot.confusion_matrix.ConfusionMatrixDisplay at 0x26a44453e50>"
      ]
     },
     "execution_count": 42,
     "metadata": {},
     "output_type": "execute_result"
    },
    {
     "data": {
      "image/png": "[encoded data removed]",
      "text/plain": [
       "<Figure size 640x480 with 2 Axes>"
      ]
     },
     "metadata": {},
     "output_type": "display_data"
    }
   ],
   "source": [
    "\n",
    "# Get class predictions\n",
    "y_pred = final_model.predict(X2_test_sc)\n",
    "\n",
    "# Generate confusion matrix\n",
    "cf_matrix = confusion_matrix(y2_test, y_pred)\n",
    "\n",
    "# label rows and columns\n",
    "cf_df = pd.DataFrame(\n",
    "    cf_matrix,\n",
    "    columns=['Predicted Person (0)', 'Predicted Society (1)', 'Predicted Property (2)'],\n",
    "        index=['Person', 'Society', 'Property']\n",
    ")\n",
    "\n",
    "display(cf_df)\n",
    "\n",
    "# the function expects the estimator, inputs and target as parameters\n",
    "ConfusionMatrixDisplay.from_estimator(final_model, X2_test_sc, y2_test)"
   ]
  },
  {
   "attachments": {},
   "cell_type": "markdown",
   "id": "3571e313",
   "metadata": {},
   "source": [
    "Correct Predicttions:\n",
    "- 2876 for Crimes Agains Person (0)\n",
    "- 2184 for Crimes Against Society (1)\n",
    "- 751 for Crimes Against Property (2)\n",
    "\n",
    "Wrong Predictions\n",
    "- 871 predicted as 0 instead of 1\n",
    "- 1211 predicted as 0 instead of 2\n",
    "- 624 predicted as 1 instead of 0\n",
    "- 281 predicted as 1 instead of 2\n",
    "- 235 predicted as 2 instead of 0\n",
    "- 185 predicted as 2 instead of 1"
   ]
  },
  {
   "cell_type": "code",
   "execution_count": 43,
   "id": "011b6b28",
   "metadata": {},
   "outputs": [
    {
     "name": "stdout",
     "output_type": "stream",
     "text": [
      "              precision    recall  f1-score   support\n",
      "\n",
      "           0       0.58      0.77      0.66      3735\n",
      "           1       0.71      0.67      0.69      3240\n",
      "           2       0.64      0.33      0.44      2243\n",
      "\n",
      "    accuracy                           0.63      9218\n",
      "   macro avg       0.64      0.59      0.60      9218\n",
      "weighted avg       0.64      0.63      0.62      9218\n",
      "\n"
     ]
    }
   ],
   "source": [
    "from sklearn.metrics import classification_report\n",
    "\n",
    "report_initial = classification_report(y2_test, y_pred)\n",
    "print(report_initial)"
   ]
  },
  {
   "attachments": {},
   "cell_type": "markdown",
   "id": "566129fa",
   "metadata": {},
   "source": [
    "Precision: how many of them are correctly predicted in the predicted group.\n",
    "recall: how many of them are correctly predictted in the group\n",
    "\n",
    "Crimes Agains Person (0):\n",
    "- 58% is 0 and 42% is 1 or 2 in the predicted group 0 \n",
    "- 77% is 0 in the predicted group 0 and 23% is 0 in the defferent group: 1 or 2\n",
    "\n",
    "Crimes Against Society (1):\n",
    "- 71% is 1 and 29% is 0 or 2 in the predicted group 1 \n",
    "- 67% is 1 in the predicted group 1 and 33% is 1 in the defferent group: 0 or 2\n",
    "\n",
    "Crimes Against Property (2):\n",
    "- 64% is 2 and 36% is 0 or 1 in the predicted group 2\n",
    "- 33% is 2 in the predicted group 2 and 67% is 2 in the defferent group: 0 or 1"
   ]
  },
  {
   "attachments": {},
   "cell_type": "markdown",
   "id": "aa7333fa",
   "metadata": {},
   "source": []
  }
 ],
 "metadata": {
  "kernelspec": {
   "display_name": "Python 3 (ipykernel)",
   "language": "python",
   "name": "python3"
  },
  "language_info": {
   "codemirror_mode": {
    "name": "ipython",
    "version": 3
   },
   "file_extension": ".py",
   "mimetype": "text/x-python",
   "name": "python",
   "nbconvert_exporter": "python",
   "pygments_lexer": "ipython3",
   "version": "3.10.9"
  }
 },
 "nbformat": 4,
 "nbformat_minor": 5
}
