{
 "cells": [
  {
   "attachments": {},
   "cell_type": "markdown",
   "id": "2b08e4fe",
   "metadata": {},
   "source": [
    "This file is about quick looking at four models: the Logistic Regression(LR), the Support Vector Machines(SVMs), The k-nearest neighbors (KNN), and  the Decision Trees (DT). "
   ]
  },
  {
   "cell_type": "code",
   "execution_count": 25,
   "id": "58afef0a",
   "metadata": {},
   "outputs": [],
   "source": [
    "import numpy as np\n",
    "import pandas as pd\n",
    "\n",
    "import matplotlib.pyplot as plt\n",
    "\n",
    "from sklearn.model_selection import train_test_split\n",
    "from sklearn.preprocessing import StandardScaler\n",
    "from sklearn.linear_model import LogisticRegression\n",
    "from sklearn.tree import DecisionTreeClassifier\n",
    "from sklearn.neighbors import KNeighborsClassifier\n",
    "from sklearn.svm import LinearSVC\n",
    "\n",
    "from sklearn.metrics import confusion_matrix, ConfusionMatrixDisplay\n",
    "\n",
    "#from 1.0_reduceCol.ipynb\n",
    "%store -r df2_dammy"
   ]
  },
  {
   "cell_type": "code",
   "execution_count": 26,
   "id": "8240ccc6",
   "metadata": {},
   "outputs": [
    {
     "name": "stdout",
     "output_type": "stream",
     "text": [
      "(4608995, 649)\n"
     ]
    },
    {
     "data": {
      "text/html": [
       "<div>\n",
       "<style scoped>\n",
       "    .dataframe tbody tr th:only-of-type {\n",
       "        vertical-align: middle;\n",
       "    }\n",
       "\n",
       "    .dataframe tbody tr th {\n",
       "        vertical-align: top;\n",
       "    }\n",
       "\n",
       "    .dataframe thead th {\n",
       "        text-align: right;\n",
       "    }\n",
       "</style>\n",
       "<table border=\"1\" class=\"dataframe\">\n",
       "  <thead>\n",
       "    <tr style=\"text-align: right;\">\n",
       "      <th></th>\n",
       "      <th>Date</th>\n",
       "      <th>Arrest</th>\n",
       "      <th>Domestic</th>\n",
       "      <th>Crimes Against</th>\n",
       "      <th>beat_no</th>\n",
       "      <th>Location Description_AIRCRAFT</th>\n",
       "      <th>Location Description_AIRPORT BUILDING NON-TERMINAL - NON-SECURE AREA</th>\n",
       "      <th>Location Description_AIRPORT BUILDING NON-TERMINAL - SECURE AREA</th>\n",
       "      <th>Location Description_AIRPORT EXTERIOR - NON-SECURE AREA</th>\n",
       "      <th>Location Description_AIRPORT EXTERIOR - SECURE AREA</th>\n",
       "      <th>...</th>\n",
       "      <th>Community Area_68.0</th>\n",
       "      <th>Community Area_69.0</th>\n",
       "      <th>Community Area_70.0</th>\n",
       "      <th>Community Area_71.0</th>\n",
       "      <th>Community Area_72.0</th>\n",
       "      <th>Community Area_73.0</th>\n",
       "      <th>Community Area_74.0</th>\n",
       "      <th>Community Area_75.0</th>\n",
       "      <th>Community Area_76.0</th>\n",
       "      <th>Community Area_77.0</th>\n",
       "    </tr>\n",
       "  </thead>\n",
       "  <tbody>\n",
       "    <tr>\n",
       "      <th>0</th>\n",
       "      <td>2015-09-05 13:30:00</td>\n",
       "      <td>0</td>\n",
       "      <td>1</td>\n",
       "      <td>Persons</td>\n",
       "      <td>15</td>\n",
       "      <td>0</td>\n",
       "      <td>0</td>\n",
       "      <td>0</td>\n",
       "      <td>0</td>\n",
       "      <td>0</td>\n",
       "      <td>...</td>\n",
       "      <td>0</td>\n",
       "      <td>0</td>\n",
       "      <td>0</td>\n",
       "      <td>0</td>\n",
       "      <td>0</td>\n",
       "      <td>0</td>\n",
       "      <td>0</td>\n",
       "      <td>0</td>\n",
       "      <td>0</td>\n",
       "      <td>0</td>\n",
       "    </tr>\n",
       "    <tr>\n",
       "      <th>1</th>\n",
       "      <td>2015-09-02 02:00:00</td>\n",
       "      <td>0</td>\n",
       "      <td>1</td>\n",
       "      <td>Persons</td>\n",
       "      <td>15</td>\n",
       "      <td>0</td>\n",
       "      <td>0</td>\n",
       "      <td>0</td>\n",
       "      <td>0</td>\n",
       "      <td>0</td>\n",
       "      <td>...</td>\n",
       "      <td>0</td>\n",
       "      <td>0</td>\n",
       "      <td>0</td>\n",
       "      <td>0</td>\n",
       "      <td>0</td>\n",
       "      <td>0</td>\n",
       "      <td>0</td>\n",
       "      <td>0</td>\n",
       "      <td>0</td>\n",
       "      <td>0</td>\n",
       "    </tr>\n",
       "  </tbody>\n",
       "</table>\n",
       "<p>2 rows × 649 columns</p>\n",
       "</div>"
      ],
      "text/plain": [
       "                 Date  Arrest  Domestic Crimes Against  beat_no  \\\n",
       "0 2015-09-05 13:30:00       0         1        Persons       15   \n",
       "1 2015-09-02 02:00:00       0         1        Persons       15   \n",
       "\n",
       "   Location Description_AIRCRAFT  \\\n",
       "0                              0   \n",
       "1                              0   \n",
       "\n",
       "   Location Description_AIRPORT BUILDING NON-TERMINAL - NON-SECURE AREA  \\\n",
       "0                                                  0                      \n",
       "1                                                  0                      \n",
       "\n",
       "   Location Description_AIRPORT BUILDING NON-TERMINAL - SECURE AREA  \\\n",
       "0                                                  0                  \n",
       "1                                                  0                  \n",
       "\n",
       "   Location Description_AIRPORT EXTERIOR - NON-SECURE AREA  \\\n",
       "0                                                  0         \n",
       "1                                                  0         \n",
       "\n",
       "   Location Description_AIRPORT EXTERIOR - SECURE AREA  ...  \\\n",
       "0                                                  0    ...   \n",
       "1                                                  0    ...   \n",
       "\n",
       "   Community Area_68.0  Community Area_69.0  Community Area_70.0  \\\n",
       "0                    0                    0                    0   \n",
       "1                    0                    0                    0   \n",
       "\n",
       "   Community Area_71.0  Community Area_72.0  Community Area_73.0  \\\n",
       "0                    0                    0                    0   \n",
       "1                    0                    0                    0   \n",
       "\n",
       "   Community Area_74.0  Community Area_75.0  Community Area_76.0  \\\n",
       "0                    0                    0                    0   \n",
       "1                    0                    0                    0   \n",
       "\n",
       "   Community Area_77.0  \n",
       "0                    0  \n",
       "1                    0  \n",
       "\n",
       "[2 rows x 649 columns]"
      ]
     },
     "execution_count": 26,
     "metadata": {},
     "output_type": "execute_result"
    }
   ],
   "source": [
    "#make a new datafram by coping <df2_dammy>\n",
    "df_models = df2_dammy.copy()\n",
    "print(df_models.shape)\n",
    "df_models.head(2)"
   ]
  },
  {
   "attachments": {},
   "cell_type": "markdown",
   "id": "01dd4ad7-ec21-4f79-8bbf-afbf0d3023f3",
   "metadata": {
    "tags": []
   },
   "source": [
    "#### spread date column to 4 different columns"
   ]
  },
  {
   "cell_type": "code",
   "execution_count": 27,
   "id": "aecc2ed0",
   "metadata": {},
   "outputs": [
    {
     "data": {
      "text/html": [
       "<div>\n",
       "<style scoped>\n",
       "    .dataframe tbody tr th:only-of-type {\n",
       "        vertical-align: middle;\n",
       "    }\n",
       "\n",
       "    .dataframe tbody tr th {\n",
       "        vertical-align: top;\n",
       "    }\n",
       "\n",
       "    .dataframe thead th {\n",
       "        text-align: right;\n",
       "    }\n",
       "</style>\n",
       "<table border=\"1\" class=\"dataframe\">\n",
       "  <thead>\n",
       "    <tr style=\"text-align: right;\">\n",
       "      <th></th>\n",
       "      <th>Date</th>\n",
       "      <th>Arrest</th>\n",
       "      <th>Domestic</th>\n",
       "      <th>Crimes Against</th>\n",
       "      <th>beat_no</th>\n",
       "      <th>Location Description_AIRCRAFT</th>\n",
       "      <th>Location Description_AIRPORT BUILDING NON-TERMINAL - NON-SECURE AREA</th>\n",
       "      <th>Location Description_AIRPORT BUILDING NON-TERMINAL - SECURE AREA</th>\n",
       "      <th>Location Description_AIRPORT EXTERIOR - NON-SECURE AREA</th>\n",
       "      <th>Location Description_AIRPORT EXTERIOR - SECURE AREA</th>\n",
       "      <th>...</th>\n",
       "      <th>Community Area_72.0</th>\n",
       "      <th>Community Area_73.0</th>\n",
       "      <th>Community Area_74.0</th>\n",
       "      <th>Community Area_75.0</th>\n",
       "      <th>Community Area_76.0</th>\n",
       "      <th>Community Area_77.0</th>\n",
       "      <th>Year</th>\n",
       "      <th>Month</th>\n",
       "      <th>Day</th>\n",
       "      <th>Hour</th>\n",
       "    </tr>\n",
       "  </thead>\n",
       "  <tbody>\n",
       "    <tr>\n",
       "      <th>0</th>\n",
       "      <td>2015-09-05 13:30:00</td>\n",
       "      <td>0</td>\n",
       "      <td>1</td>\n",
       "      <td>Persons</td>\n",
       "      <td>15</td>\n",
       "      <td>0</td>\n",
       "      <td>0</td>\n",
       "      <td>0</td>\n",
       "      <td>0</td>\n",
       "      <td>0</td>\n",
       "      <td>...</td>\n",
       "      <td>0</td>\n",
       "      <td>0</td>\n",
       "      <td>0</td>\n",
       "      <td>0</td>\n",
       "      <td>0</td>\n",
       "      <td>0</td>\n",
       "      <td>2015</td>\n",
       "      <td>9</td>\n",
       "      <td>5</td>\n",
       "      <td>13</td>\n",
       "    </tr>\n",
       "  </tbody>\n",
       "</table>\n",
       "<p>1 rows × 653 columns</p>\n",
       "</div>"
      ],
      "text/plain": [
       "                 Date  Arrest  Domestic Crimes Against  beat_no  \\\n",
       "0 2015-09-05 13:30:00       0         1        Persons       15   \n",
       "\n",
       "   Location Description_AIRCRAFT  \\\n",
       "0                              0   \n",
       "\n",
       "   Location Description_AIRPORT BUILDING NON-TERMINAL - NON-SECURE AREA  \\\n",
       "0                                                  0                      \n",
       "\n",
       "   Location Description_AIRPORT BUILDING NON-TERMINAL - SECURE AREA  \\\n",
       "0                                                  0                  \n",
       "\n",
       "   Location Description_AIRPORT EXTERIOR - NON-SECURE AREA  \\\n",
       "0                                                  0         \n",
       "\n",
       "   Location Description_AIRPORT EXTERIOR - SECURE AREA  ...  \\\n",
       "0                                                  0    ...   \n",
       "\n",
       "   Community Area_72.0  Community Area_73.0  Community Area_74.0  \\\n",
       "0                    0                    0                    0   \n",
       "\n",
       "   Community Area_75.0  Community Area_76.0  Community Area_77.0  Year  Month  \\\n",
       "0                    0                    0                    0  2015      9   \n",
       "\n",
       "   Day  Hour  \n",
       "0    5    13  \n",
       "\n",
       "[1 rows x 653 columns]"
      ]
     },
     "execution_count": 27,
     "metadata": {},
     "output_type": "execute_result"
    }
   ],
   "source": [
    "#https://pandas.pydata.org/docs/reference/api/pandas.Series.dt.year.html\n",
    "#spreads features of 'Date'\n",
    "df_models['Year'] = df_models['Date'].dt.year\n",
    "df_models['Month'] = df_models['Date'].dt.month\n",
    "df_models['Day'] = df_models['Date'].dt.day\n",
    "df_models['Hour'] = df_models['Date'].dt.hour\n",
    "df_models.head(1)\n",
    "\n",
    "#confirm"
   ]
  },
  {
   "cell_type": "code",
   "execution_count": 28,
   "id": "858cf36f",
   "metadata": {},
   "outputs": [
    {
     "data": {
      "text/html": [
       "<div>\n",
       "<style scoped>\n",
       "    .dataframe tbody tr th:only-of-type {\n",
       "        vertical-align: middle;\n",
       "    }\n",
       "\n",
       "    .dataframe tbody tr th {\n",
       "        vertical-align: top;\n",
       "    }\n",
       "\n",
       "    .dataframe thead th {\n",
       "        text-align: right;\n",
       "    }\n",
       "</style>\n",
       "<table border=\"1\" class=\"dataframe\">\n",
       "  <thead>\n",
       "    <tr style=\"text-align: right;\">\n",
       "      <th></th>\n",
       "      <th>Arrest</th>\n",
       "      <th>Domestic</th>\n",
       "      <th>Crimes Against</th>\n",
       "      <th>beat_no</th>\n",
       "      <th>Location Description_AIRCRAFT</th>\n",
       "      <th>Location Description_AIRPORT BUILDING NON-TERMINAL - NON-SECURE AREA</th>\n",
       "      <th>Location Description_AIRPORT BUILDING NON-TERMINAL - SECURE AREA</th>\n",
       "      <th>Location Description_AIRPORT EXTERIOR - NON-SECURE AREA</th>\n",
       "      <th>Location Description_AIRPORT EXTERIOR - SECURE AREA</th>\n",
       "      <th>Location Description_AIRPORT PARKING LOT</th>\n",
       "      <th>...</th>\n",
       "      <th>Community Area_72.0</th>\n",
       "      <th>Community Area_73.0</th>\n",
       "      <th>Community Area_74.0</th>\n",
       "      <th>Community Area_75.0</th>\n",
       "      <th>Community Area_76.0</th>\n",
       "      <th>Community Area_77.0</th>\n",
       "      <th>Year</th>\n",
       "      <th>Month</th>\n",
       "      <th>Day</th>\n",
       "      <th>Hour</th>\n",
       "    </tr>\n",
       "  </thead>\n",
       "  <tbody>\n",
       "    <tr>\n",
       "      <th>0</th>\n",
       "      <td>0</td>\n",
       "      <td>1</td>\n",
       "      <td>Persons</td>\n",
       "      <td>15</td>\n",
       "      <td>0</td>\n",
       "      <td>0</td>\n",
       "      <td>0</td>\n",
       "      <td>0</td>\n",
       "      <td>0</td>\n",
       "      <td>0</td>\n",
       "      <td>...</td>\n",
       "      <td>0</td>\n",
       "      <td>0</td>\n",
       "      <td>0</td>\n",
       "      <td>0</td>\n",
       "      <td>0</td>\n",
       "      <td>0</td>\n",
       "      <td>2015</td>\n",
       "      <td>9</td>\n",
       "      <td>5</td>\n",
       "      <td>13</td>\n",
       "    </tr>\n",
       "  </tbody>\n",
       "</table>\n",
       "<p>1 rows × 652 columns</p>\n",
       "</div>"
      ],
      "text/plain": [
       "   Arrest  Domestic Crimes Against  beat_no  Location Description_AIRCRAFT  \\\n",
       "0       0         1        Persons       15                              0   \n",
       "\n",
       "   Location Description_AIRPORT BUILDING NON-TERMINAL - NON-SECURE AREA  \\\n",
       "0                                                  0                      \n",
       "\n",
       "   Location Description_AIRPORT BUILDING NON-TERMINAL - SECURE AREA  \\\n",
       "0                                                  0                  \n",
       "\n",
       "   Location Description_AIRPORT EXTERIOR - NON-SECURE AREA  \\\n",
       "0                                                  0         \n",
       "\n",
       "   Location Description_AIRPORT EXTERIOR - SECURE AREA  \\\n",
       "0                                                  0     \n",
       "\n",
       "   Location Description_AIRPORT PARKING LOT  ...  Community Area_72.0  \\\n",
       "0                                         0  ...                    0   \n",
       "\n",
       "   Community Area_73.0  Community Area_74.0  Community Area_75.0  \\\n",
       "0                    0                    0                    0   \n",
       "\n",
       "   Community Area_76.0  Community Area_77.0  Year  Month  Day  Hour  \n",
       "0                    0                    0  2015      9    5    13  \n",
       "\n",
       "[1 rows x 652 columns]"
      ]
     },
     "execution_count": 28,
     "metadata": {},
     "output_type": "execute_result"
    }
   ],
   "source": [
    "#drops the column\n",
    "df_models.drop(columns='Date', inplace=True)\n",
    "df_models.head(1)\n",
    "\n",
    "#confirm"
   ]
  },
  {
   "cell_type": "code",
   "execution_count": 29,
   "id": "e40625a3",
   "metadata": {},
   "outputs": [
    {
     "data": {
      "text/plain": [
       "(4608995, 652)"
      ]
     },
     "execution_count": 29,
     "metadata": {},
     "output_type": "execute_result"
    }
   ],
   "source": [
    "#check the shape\n",
    "df_models.shape"
   ]
  },
  {
   "attachments": {},
   "cell_type": "markdown",
   "id": "f9df5353",
   "metadata": {},
   "source": [
    "#### distribution of `Crimes Against`"
   ]
  },
  {
   "cell_type": "code",
   "execution_count": 30,
   "metadata": {},
   "outputs": [
    {
     "data": {
      "text/plain": [
       "Persons     1845640\n",
       "Society     1623867\n",
       "Property    1139488\n",
       "Name: Crimes Against, dtype: int64"
      ]
     },
     "execution_count": 30,
     "metadata": {},
     "output_type": "execute_result"
    }
   ],
   "source": [
    "#distribution for the column: 'Crimes Against'\n",
    "df_models['Crimes Against'].value_counts()"
   ]
  },
  {
   "cell_type": "code",
   "execution_count": 31,
   "id": "cebf85e4",
   "metadata": {},
   "outputs": [
    {
     "data": {
      "text/plain": [
       "<Figure size 640x480 with 0 Axes>"
      ]
     },
     "metadata": {},
     "output_type": "display_data"
    },
    {
     "data": {
      "image/png": "[encoded data removed]",
      "text/plain": [
       "<Figure size 400x400 with 1 Axes>"
      ]
     },
     "metadata": {},
     "output_type": "display_data"
    },
    {
     "data": {
      "image/png": "[encoded data removed]",
      "text/plain": [
       "<Figure size 400x400 with 1 Axes>"
      ]
     },
     "metadata": {},
     "output_type": "display_data"
    }
   ],
   "source": [
    "#https://matplotlib.org/stable/gallery/lines_bars_and_markers/bar_label_demo.html\n",
    "\n",
    "#\n",
    "crimes_Against = df_models['Crimes Against'].value_counts()\n",
    "percent = crimes_Against/df_models.shape[0]*100\n",
    "\n",
    "#plot with bar\n",
    "plt.figure()\n",
    "\n",
    "#numbers\n",
    "crims = list(crimes_Against.index)\n",
    "counts = list(crimes_Against.values)\n",
    "\n",
    "fig, ax = plt.subplots(figsize = (4,4))\n",
    "bar_container = ax.bar(crims, counts)\n",
    "ax.set(xlabel='Crimes Against', ylabel='Number of crimes', title='Distribution of The Type of Crims Against')\n",
    "ax.bar_label(bar_container, fmt='{:,.0f}')\n",
    "\n",
    "\n",
    "#percentages\n",
    "fig, ax = plt.subplots(figsize = (4,4))\n",
    "bar_container = ax.bar(list(percent.index), list(percent.values))\n",
    "ax.set(xlabel='Crimes Against', ylabel='Number of crimes (%)', title='Distribution of The Type of Crims Against')\n",
    "ax.bar_label(bar_container, fmt='{:0.2f}')\n",
    "\n",
    "plt.show()"
   ]
  },
  {
   "attachments": {},
   "cell_type": "markdown",
   "id": "38ca59be",
   "metadata": {},
   "source": [
    "#### sampling"
   ]
  },
  {
   "attachments": {},
   "cell_type": "markdown",
   "id": "86cc8373",
   "metadata": {},
   "source": [
    "Because the size of dataset is big, take some samples from the set for modeling"
   ]
  },
  {
   "cell_type": "code",
   "execution_count": 32,
   "id": "80d0f151",
   "metadata": {},
   "outputs": [
    {
     "name": "stdout",
     "output_type": "stream",
     "text": [
      "Stored 'df_models_valid' (DataFrame)\n"
     ]
    }
   ],
   "source": [
    "#https://note.nkmk.me/en/python-pandas-sample/\n",
    "#https://proclusacademy.com/blog/stratified_sampling_pandas/  <-- Might need\n",
    "#reduces the sample size\n",
    "models_sample = df_models.sample(frac=0.01, random_state=1)\n",
    "#4608995*0.01=~46K\n",
    "\n",
    "#make a copy for <models_sample> to transfer\n",
    "df_models_valid = models_sample.copy()\n",
    "%store df_models_valid\n",
    "\n",
    "#target\n",
    "y = pd.factorize(models_sample['Crimes Against'])[0]\n",
    "# Convert Categorical Attributes to Numerical\n",
    "#https://www.kaggle.com/code/heng8835/classification-with-ml-predict-crime-type\n",
    "\n",
    "#features\n",
    "X = models_sample.drop(columns='Crimes Against')"
   ]
  },
  {
   "cell_type": "code",
   "execution_count": 33,
   "id": "8b252bef",
   "metadata": {},
   "outputs": [
    {
     "data": {
      "text/plain": [
       "<Figure size 640x480 with 0 Axes>"
      ]
     },
     "metadata": {},
     "output_type": "display_data"
    },
    {
     "data": {
      "image/png": "[encoded data removed]",
      "text/plain": [
       "<Figure size 400x400 with 1 Axes>"
      ]
     },
     "metadata": {},
     "output_type": "display_data"
    },
    {
     "data": {
      "image/png": "[encoded data removed]",
      "text/plain": [
       "<Figure size 400x400 with 1 Axes>"
      ]
     },
     "metadata": {},
     "output_type": "display_data"
    }
   ],
   "source": [
    "#\n",
    "crimes_Against = models_sample['Crimes Against'].value_counts()\n",
    "percent = crimes_Against/models_sample.shape[0]*100\n",
    "\n",
    "#plot with bar\n",
    "plt.figure()\n",
    "\n",
    "#numbers\n",
    "crims = list(crimes_Against.index)\n",
    "counts = list(crimes_Against.values)\n",
    "\n",
    "fig, ax = plt.subplots(figsize = (4,4))\n",
    "bar_container = ax.bar(crims, counts)\n",
    "ax.set(xlabel='Crimes Against', ylabel='Number of crimes', title='Distribution of The Type of Crims Against After Sample')\n",
    "ax.bar_label(bar_container, fmt='{:,.0f}')\n",
    "\n",
    "\n",
    "#percentages\n",
    "fig, ax = plt.subplots(figsize = (4,4))\n",
    "bar_container = ax.bar(list(percent.index), list(percent.values))\n",
    "ax.set(xlabel='Crimes Against', ylabel='Number of crimes (%)', title='Distribution of The Type of Crims Against After Sample (%)')\n",
    "ax.bar_label(bar_container, fmt='{:0.2f}')\n",
    "\n",
    "plt.show()"
   ]
  },
  {
   "cell_type": "code",
   "execution_count": 34,
   "id": "cc175172",
   "metadata": {},
   "outputs": [
    {
     "data": {
      "text/plain": [
       "array([0, 1, 2, ..., 0, 2, 0], dtype=int64)"
      ]
     },
     "execution_count": 34,
     "metadata": {},
     "output_type": "execute_result"
    }
   ],
   "source": [
    "#check 'y'\n",
    "y"
   ]
  },
  {
   "cell_type": "code",
   "execution_count": 35,
   "id": "b4fc5971",
   "metadata": {},
   "outputs": [
    {
     "data": {
      "text/html": [
       "<div>\n",
       "<style scoped>\n",
       "    .dataframe tbody tr th:only-of-type {\n",
       "        vertical-align: middle;\n",
       "    }\n",
       "\n",
       "    .dataframe tbody tr th {\n",
       "        vertical-align: top;\n",
       "    }\n",
       "\n",
       "    .dataframe thead th {\n",
       "        text-align: right;\n",
       "    }\n",
       "</style>\n",
       "<table border=\"1\" class=\"dataframe\">\n",
       "  <thead>\n",
       "    <tr style=\"text-align: right;\">\n",
       "      <th></th>\n",
       "      <th>0</th>\n",
       "    </tr>\n",
       "  </thead>\n",
       "  <tbody>\n",
       "    <tr>\n",
       "      <th>0</th>\n",
       "      <td>0</td>\n",
       "    </tr>\n",
       "    <tr>\n",
       "      <th>1</th>\n",
       "      <td>1</td>\n",
       "    </tr>\n",
       "    <tr>\n",
       "      <th>2</th>\n",
       "      <td>2</td>\n",
       "    </tr>\n",
       "    <tr>\n",
       "      <th>3</th>\n",
       "      <td>0</td>\n",
       "    </tr>\n",
       "    <tr>\n",
       "      <th>4</th>\n",
       "      <td>0</td>\n",
       "    </tr>\n",
       "  </tbody>\n",
       "</table>\n",
       "</div>"
      ],
      "text/plain": [
       "   0\n",
       "0  0\n",
       "1  1\n",
       "2  2\n",
       "3  0\n",
       "4  0"
      ]
     },
     "execution_count": 35,
     "metadata": {},
     "output_type": "execute_result"
    }
   ],
   "source": [
    "#make a dataframe for 'y'\n",
    "y_df = pd.DataFrame(y)\n",
    "y_df.head()"
   ]
  },
  {
   "cell_type": "code",
   "execution_count": 36,
   "id": "c3e9fe21",
   "metadata": {},
   "outputs": [
    {
     "data": {
      "text/plain": [
       "0    18673\n",
       "1    16202\n",
       "2    11215\n",
       "dtype: int64"
      ]
     },
     "execution_count": 36,
     "metadata": {},
     "output_type": "execute_result"
    }
   ],
   "source": [
    "#make a distribution\n",
    "y_df.value_counts()\n",
    "\n",
    "#0: Person, 1: Society, and 2: Property"
   ]
  },
  {
   "attachments": {},
   "cell_type": "markdown",
   "id": "d89a7197",
   "metadata": {},
   "source": [
    "#### split into train and test"
   ]
  },
  {
   "cell_type": "code",
   "execution_count": 37,
   "id": "896d1f50",
   "metadata": {},
   "outputs": [],
   "source": [
    "import warnings\n",
    "warnings.filterwarnings('ignore')\n",
    "\n",
    "#a function to get accuracies for each models\n",
    "def split(X, y):\n",
    "\n",
    "    #split into train and test\n",
    "    X_train, X_test, y_train, y_test = train_test_split(X, y, test_size=0.25, random_state=1)\n",
    "\n",
    "    #print shapes\n",
    "    print('shape\\n-------------------------------------------')\n",
    "    print('X_train', X_train.shape, '\\tX_test', X_test.shape)\n",
    "    print('y_train', y_train.shape, '\\ty_test', y_test.shape)\n",
    "\n",
    "    #a scaler\n",
    "    scaler = StandardScaler()\n",
    "\n",
    "    #fit it\n",
    "    scaler.fit(X_train)\n",
    "\n",
    "    #transform them\n",
    "    X_train_sca = scaler.transform(X_train)\n",
    "    X_test_sca = scaler.transform(X_test)\n",
    "\n",
    "    return X_train_sca, X_test_sca, y_train, y_test"
   ]
  },
  {
   "cell_type": "code",
   "execution_count": 38,
   "id": "1186e946",
   "metadata": {},
   "outputs": [
    {
     "name": "stdout",
     "output_type": "stream",
     "text": [
      "shape\n",
      "-------------------------------------------\n",
      "X_train (34567, 651) \tX_test (11523, 651)\n",
      "y_train (34567,) \ty_test (11523,)\n"
     ]
    }
   ],
   "source": [
    "#gets scaled then transforms\n",
    "X_train, X_test, y_train, y_test = split(X, y)"
   ]
  },
  {
   "attachments": {},
   "cell_type": "markdown",
   "id": "0d75bfd6",
   "metadata": {},
   "source": [
    "#### functions for scors, confusion matrix, and reports"
   ]
  },
  {
   "cell_type": "code",
   "execution_count": 39,
   "id": "140159db",
   "metadata": {},
   "outputs": [],
   "source": [
    "#a function to use models\n",
    "def models(X_train_sca, X_test_sca, y_train, y_test, num):\n",
    "    #an array for models\n",
    "    model_type = [LogisticRegression(), LinearSVC(), KNeighborsClassifier(), DecisionTreeClassifier()]\n",
    "\n",
    "    # import time\n",
    "    # start_time = time.time()\n",
    "\n",
    "    #creates a model\n",
    "    model = model_type[num]\n",
    "    #fit it\n",
    "    model.fit(X_train_sca, y_train)\n",
    "    \n",
    "    # end_time = time.time()\n",
    "    # model_time = end_time - start_time\n",
    "\n",
    "    accu_train = f'{model.score(X_train_sca, y_train):0.3f}'\n",
    "    accu_test = f'\\t{model.score(X_test_sca, y_test):0.3f}'\n",
    "\n",
    "    return accu_train, accu_test, model\n",
    "\n",
    "    # print(f'accuracy\\t{model_time}\\n---------------')\n",
    "    # print(\"train: \", f'{model.score(X_train_sca, y_train):0.3f}')\n",
    "    # print(\"test: \", f'\\t{model.score(X_test_sca, y_test):0.3f}')"
   ]
  },
  {
   "cell_type": "code",
   "execution_count": 40,
   "id": "487fc8f9",
   "metadata": {},
   "outputs": [],
   "source": [
    "from sklearn.metrics import classification_report\n",
    "\n",
    "#a function for getting results of confusion matrix and a report\n",
    "\n",
    "def confusionMatrix(modelType, X_test, y_test):\n",
    "    # Get class predictions\n",
    "    y_pred = modelType.predict(X_test)\n",
    "\n",
    "    # Generate confusion matrix\n",
    "    cf_matrix = confusion_matrix(y_test, y_pred)\n",
    "\n",
    "    # label rows and columns\n",
    "    cf_df = pd.DataFrame(\n",
    "        cf_matrix, \n",
    "        columns=['Predicted Person', 'Predicted Society', 'Predicted Property'],\n",
    "        index=['Person', 'Society', 'Property']\n",
    "    )\n",
    "\n",
    "    display(cf_df)\n",
    "\n",
    "    # the function expects the estimator, inputs and target as parameters\n",
    "    ConfusionMatrixDisplay.from_estimator(modelType, X_test, y_test);\n",
    "\n",
    "\n",
    "    #a report\n",
    "    report_initial = classification_report(y_test, y_pred)\n",
    "    print(report_initial)"
   ]
  },
  {
   "attachments": {},
   "cell_type": "markdown",
   "id": "bb59545a",
   "metadata": {},
   "source": [
    "#### get accuracy scores"
   ]
  },
  {
   "cell_type": "code",
   "execution_count": 41,
   "id": "efde5104",
   "metadata": {},
   "outputs": [
    {
     "name": "stdout",
     "output_type": "stream",
     "text": [
      "*** accuracy ***\n",
      "--------------------\n",
      "\t[ LR ]\n",
      "train:  0.674\n",
      "test:  \t0.658\n",
      "--------------------\n",
      "\t[ SVM ]\n",
      "train:  0.646\n",
      "test:  \t0.626\n",
      "--------------------\n",
      "\t[ KNN ]\n",
      "train:  0.692\n",
      "test:  \t0.547\n",
      "--------------------\n",
      "\t[ DT ]\n",
      "train:  1.000\n",
      "test:  \t0.592\n"
     ]
    }
   ],
   "source": [
    "##print each accuracy score\n",
    "\n",
    "print('*** accuracy ***')\n",
    "\n",
    "model = ['LR', 'SVM', 'KNN', 'DT']\n",
    "model_Type = []\n",
    "for i in range(4):\n",
    "    #print(f'\\n\\n\\t*** {model[i]} ***')\n",
    "    accu_train, accu_test, modelType = models(X_train, X_test, y_train, y_test, i)\n",
    "    model_Type.append(modelType)\n",
    "\n",
    "    print(f'--------------------\\n\\t[ {model[i]} ]')\n",
    "    print(\"train: \", accu_train)\n",
    "    print(\"test: \", accu_test)"
   ]
  },
  {
   "attachments": {},
   "cell_type": "markdown",
   "id": "b54b953a",
   "metadata": {},
   "source": [
    "Results are around 60-70%. LR and SVM: scores for train and test are close. KNN and DT are overfitting. Because of the characteristic of DT, train score is 1."
   ]
  },
  {
   "attachments": {},
   "cell_type": "markdown",
   "id": "51740cce",
   "metadata": {},
   "source": [
    "#### get confusion matrix and a report"
   ]
  },
  {
   "cell_type": "code",
   "execution_count": 43,
   "id": "b3ca5068",
   "metadata": {},
   "outputs": [
    {
     "name": "stdout",
     "output_type": "stream",
     "text": [
      "\n",
      "\t**********  LogisticRegression()  **********\n"
     ]
    },
    {
     "data": {
      "text/html": [
       "<div>\n",
       "<style scoped>\n",
       "    .dataframe tbody tr th:only-of-type {\n",
       "        vertical-align: middle;\n",
       "    }\n",
       "\n",
       "    .dataframe tbody tr th {\n",
       "        vertical-align: top;\n",
       "    }\n",
       "\n",
       "    .dataframe thead th {\n",
       "        text-align: right;\n",
       "    }\n",
       "</style>\n",
       "<table border=\"1\" class=\"dataframe\">\n",
       "  <thead>\n",
       "    <tr style=\"text-align: right;\">\n",
       "      <th></th>\n",
       "      <th>Predicted Person</th>\n",
       "      <th>Predicted Society</th>\n",
       "      <th>Predicted Property</th>\n",
       "    </tr>\n",
       "  </thead>\n",
       "  <tbody>\n",
       "    <tr>\n",
       "      <th>Person</th>\n",
       "      <td>2927</td>\n",
       "      <td>786</td>\n",
       "      <td>956</td>\n",
       "    </tr>\n",
       "    <tr>\n",
       "      <th>Society</th>\n",
       "      <td>708</td>\n",
       "      <td>2720</td>\n",
       "      <td>619</td>\n",
       "    </tr>\n",
       "    <tr>\n",
       "      <th>Property</th>\n",
       "      <td>657</td>\n",
       "      <td>215</td>\n",
       "      <td>1935</td>\n",
       "    </tr>\n",
       "  </tbody>\n",
       "</table>\n",
       "</div>"
      ],
      "text/plain": [
       "          Predicted Person  Predicted Society  Predicted Property\n",
       "Person                2927                786                 956\n",
       "Society                708               2720                 619\n",
       "Property               657                215                1935"
      ]
     },
     "metadata": {},
     "output_type": "display_data"
    },
    {
     "name": "stdout",
     "output_type": "stream",
     "text": [
      "              precision    recall  f1-score   support\n",
      "\n",
      "           0       0.68      0.63      0.65      4669\n",
      "           1       0.73      0.67      0.70      4047\n",
      "           2       0.55      0.69      0.61      2807\n",
      "\n",
      "    accuracy                           0.66     11523\n",
      "   macro avg       0.65      0.66      0.66     11523\n",
      "weighted avg       0.67      0.66      0.66     11523\n",
      "\n",
      "\n",
      "\t**********  LinearSVC()  **********\n"
     ]
    },
    {
     "data": {
      "text/html": [
       "<div>\n",
       "<style scoped>\n",
       "    .dataframe tbody tr th:only-of-type {\n",
       "        vertical-align: middle;\n",
       "    }\n",
       "\n",
       "    .dataframe tbody tr th {\n",
       "        vertical-align: top;\n",
       "    }\n",
       "\n",
       "    .dataframe thead th {\n",
       "        text-align: right;\n",
       "    }\n",
       "</style>\n",
       "<table border=\"1\" class=\"dataframe\">\n",
       "  <thead>\n",
       "    <tr style=\"text-align: right;\">\n",
       "      <th></th>\n",
       "      <th>Predicted Person</th>\n",
       "      <th>Predicted Society</th>\n",
       "      <th>Predicted Property</th>\n",
       "    </tr>\n",
       "  </thead>\n",
       "  <tbody>\n",
       "    <tr>\n",
       "      <th>Person</th>\n",
       "      <td>2896</td>\n",
       "      <td>917</td>\n",
       "      <td>856</td>\n",
       "    </tr>\n",
       "    <tr>\n",
       "      <th>Society</th>\n",
       "      <td>789</td>\n",
       "      <td>2717</td>\n",
       "      <td>541</td>\n",
       "    </tr>\n",
       "    <tr>\n",
       "      <th>Property</th>\n",
       "      <td>895</td>\n",
       "      <td>309</td>\n",
       "      <td>1603</td>\n",
       "    </tr>\n",
       "  </tbody>\n",
       "</table>\n",
       "</div>"
      ],
      "text/plain": [
       "          Predicted Person  Predicted Society  Predicted Property\n",
       "Person                2896                917                 856\n",
       "Society                789               2717                 541\n",
       "Property               895                309                1603"
      ]
     },
     "metadata": {},
     "output_type": "display_data"
    },
    {
     "name": "stdout",
     "output_type": "stream",
     "text": [
      "              precision    recall  f1-score   support\n",
      "\n",
      "           0       0.63      0.62      0.63      4669\n",
      "           1       0.69      0.67      0.68      4047\n",
      "           2       0.53      0.57      0.55      2807\n",
      "\n",
      "    accuracy                           0.63     11523\n",
      "   macro avg       0.62      0.62      0.62     11523\n",
      "weighted avg       0.63      0.63      0.63     11523\n",
      "\n",
      "\n",
      "\t**********  KNeighborsClassifier()  **********\n"
     ]
    },
    {
     "data": {
      "text/html": [
       "<div>\n",
       "<style scoped>\n",
       "    .dataframe tbody tr th:only-of-type {\n",
       "        vertical-align: middle;\n",
       "    }\n",
       "\n",
       "    .dataframe tbody tr th {\n",
       "        vertical-align: top;\n",
       "    }\n",
       "\n",
       "    .dataframe thead th {\n",
       "        text-align: right;\n",
       "    }\n",
       "</style>\n",
       "<table border=\"1\" class=\"dataframe\">\n",
       "  <thead>\n",
       "    <tr style=\"text-align: right;\">\n",
       "      <th></th>\n",
       "      <th>Predicted Person</th>\n",
       "      <th>Predicted Society</th>\n",
       "      <th>Predicted Property</th>\n",
       "    </tr>\n",
       "  </thead>\n",
       "  <tbody>\n",
       "    <tr>\n",
       "      <th>Person</th>\n",
       "      <td>2973</td>\n",
       "      <td>1024</td>\n",
       "      <td>672</td>\n",
       "    </tr>\n",
       "    <tr>\n",
       "      <th>Society</th>\n",
       "      <td>1279</td>\n",
       "      <td>2319</td>\n",
       "      <td>449</td>\n",
       "    </tr>\n",
       "    <tr>\n",
       "      <th>Property</th>\n",
       "      <td>1180</td>\n",
       "      <td>616</td>\n",
       "      <td>1011</td>\n",
       "    </tr>\n",
       "  </tbody>\n",
       "</table>\n",
       "</div>"
      ],
      "text/plain": [
       "          Predicted Person  Predicted Society  Predicted Property\n",
       "Person                2973               1024                 672\n",
       "Society               1279               2319                 449\n",
       "Property              1180                616                1011"
      ]
     },
     "metadata": {},
     "output_type": "display_data"
    },
    {
     "name": "stdout",
     "output_type": "stream",
     "text": [
      "              precision    recall  f1-score   support\n",
      "\n",
      "           0       0.55      0.64      0.59      4669\n",
      "           1       0.59      0.57      0.58      4047\n",
      "           2       0.47      0.36      0.41      2807\n",
      "\n",
      "    accuracy                           0.55     11523\n",
      "   macro avg       0.54      0.52      0.53     11523\n",
      "weighted avg       0.54      0.55      0.54     11523\n",
      "\n",
      "\n",
      "\t**********  DecisionTreeClassifier()  **********\n"
     ]
    },
    {
     "data": {
      "text/html": [
       "<div>\n",
       "<style scoped>\n",
       "    .dataframe tbody tr th:only-of-type {\n",
       "        vertical-align: middle;\n",
       "    }\n",
       "\n",
       "    .dataframe tbody tr th {\n",
       "        vertical-align: top;\n",
       "    }\n",
       "\n",
       "    .dataframe thead th {\n",
       "        text-align: right;\n",
       "    }\n",
       "</style>\n",
       "<table border=\"1\" class=\"dataframe\">\n",
       "  <thead>\n",
       "    <tr style=\"text-align: right;\">\n",
       "      <th></th>\n",
       "      <th>Predicted Person</th>\n",
       "      <th>Predicted Society</th>\n",
       "      <th>Predicted Property</th>\n",
       "    </tr>\n",
       "  </thead>\n",
       "  <tbody>\n",
       "    <tr>\n",
       "      <th>Person</th>\n",
       "      <td>2856</td>\n",
       "      <td>921</td>\n",
       "      <td>892</td>\n",
       "    </tr>\n",
       "    <tr>\n",
       "      <th>Society</th>\n",
       "      <td>955</td>\n",
       "      <td>2521</td>\n",
       "      <td>571</td>\n",
       "    </tr>\n",
       "    <tr>\n",
       "      <th>Property</th>\n",
       "      <td>899</td>\n",
       "      <td>464</td>\n",
       "      <td>1444</td>\n",
       "    </tr>\n",
       "  </tbody>\n",
       "</table>\n",
       "</div>"
      ],
      "text/plain": [
       "          Predicted Person  Predicted Society  Predicted Property\n",
       "Person                2856                921                 892\n",
       "Society                955               2521                 571\n",
       "Property               899                464                1444"
      ]
     },
     "metadata": {},
     "output_type": "display_data"
    },
    {
     "name": "stdout",
     "output_type": "stream",
     "text": [
      "              precision    recall  f1-score   support\n",
      "\n",
      "           0       0.61      0.61      0.61      4669\n",
      "           1       0.65      0.62      0.63      4047\n",
      "           2       0.50      0.51      0.51      2807\n",
      "\n",
      "    accuracy                           0.59     11523\n",
      "   macro avg       0.58      0.58      0.58     11523\n",
      "weighted avg       0.59      0.59      0.59     11523\n",
      "\n"
     ]
    },
    {
     "data": {
      "image/png": "[encoded data removed]",
      "text/plain": [
       "<Figure size 640x480 with 2 Axes>"
      ]
     },
     "metadata": {},
     "output_type": "display_data"
    },
    {
     "data": {
      "image/png": "[encoded data removed]",
      "text/plain": [
       "<Figure size 640x480 with 2 Axes>"
      ]
     },
     "metadata": {},
     "output_type": "display_data"
    },
    {
     "data": {
      "image/png": "[encoded data removed]",
      "text/plain": [
       "<Figure size 640x480 with 2 Axes>"
      ]
     },
     "metadata": {},
     "output_type": "display_data"
    },
    {
     "data": {
      "image/png": "[encoded data removed]",
      "text/plain": [
       "<Figure size 640x480 with 2 Axes>"
      ]
     },
     "metadata": {},
     "output_type": "display_data"
    }
   ],
   "source": [
    "##print each confusion matrix and a report\n",
    "for i in range(len(model_Type)):\n",
    "    print('\\n\\t********** ', model_Type[i], ' **********')\n",
    "    confusionMatrix(model_Type[i], X_test, y_test)"
   ]
  },
  {
   "attachments": {},
   "cell_type": "markdown",
   "id": "91cd7e2c",
   "metadata": {},
   "source": [
    "This is about a quick check. Discussions for the results of confusion matrix and a report will be on the other files for each model. Just for the f1-score, Logistic Regression might be the better model becouse its f-1 score is the highest"
   ]
  },
  {
   "attachments": {},
   "cell_type": "markdown",
   "id": "27ac3b43",
   "metadata": {},
   "source": [
    "---"
   ]
  },
  {
   "cell_type": "code",
   "execution_count": 44,
   "id": "d0a0c128",
   "metadata": {},
   "outputs": [],
   "source": [
    "#<df_models_valid> is transferd in the cell for sampling\n",
    "#%store df_models_valid"
   ]
  },
  {
   "cell_type": "code",
   "execution_count": 45,
   "id": "1a1685fb",
   "metadata": {},
   "outputs": [
    {
     "data": {
      "text/plain": [
       "(46090, 652)"
      ]
     },
     "execution_count": 45,
     "metadata": {},
     "output_type": "execute_result"
    }
   ],
   "source": [
    "df_models_valid.shape"
   ]
  }
 ],
 "metadata": {
  "kernelspec": {
   "display_name": "Python 3 (ipykernel)",
   "language": "python",
   "name": "python3"
  },
  "language_info": {
   "codemirror_mode": {
    "name": "ipython",
    "version": 3
   },
   "file_extension": ".py",
   "mimetype": "text/x-python",
   "name": "python",
   "nbconvert_exporter": "python",
   "pygments_lexer": "ipython3",
   "version": "3.10.9"
  }
 },
 "nbformat": 4,
 "nbformat_minor": 5
}
