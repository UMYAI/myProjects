{
 "cells": [
  {
   "attachments": {},
   "cell_type": "markdown",
   "id": "92b1cf79",
   "metadata": {},
   "source": [
    "This file is about The k-nearest neighbors (KNN)\n",
    "- validation\n",
    "- scale and transform\n",
    "- exploring the n_neighbors value\n",
    "- an accurecy score\n",
    "- confusion matrix and a report\n",
    "\n",
    "Until the line, above **model**, code are the same for all 4 files for models"
   ]
  },
  {
   "cell_type": "code",
   "execution_count": 50,
   "id": "58afef0a",
   "metadata": {},
   "outputs": [],
   "source": [
    "import numpy as np\n",
    "import pandas as pd\n",
    "\n",
    "import matplotlib.pyplot as plt\n",
    "\n",
    "from sklearn.model_selection import train_test_split\n",
    "from sklearn.preprocessing import StandardScaler\n",
    "from sklearn.neighbors import KNeighborsClassifier\n",
    "\n",
    "from sklearn.metrics import confusion_matrix, ConfusionMatrixDisplay\n",
    "\n",
    "#from 2.1_0_models_quick.ipynb\n",
    "%store -r df_models_valid"
   ]
  },
  {
   "cell_type": "code",
   "execution_count": 51,
   "id": "8240ccc6",
   "metadata": {},
   "outputs": [
    {
     "name": "stdout",
     "output_type": "stream",
     "text": [
      "(46090, 652)\n"
     ]
    },
    {
     "data": {
      "text/html": [
       "<div>\n",
       "<style scoped>\n",
       "    .dataframe tbody tr th:only-of-type {\n",
       "        vertical-align: middle;\n",
       "    }\n",
       "\n",
       "    .dataframe tbody tr th {\n",
       "        vertical-align: top;\n",
       "    }\n",
       "\n",
       "    .dataframe thead th {\n",
       "        text-align: right;\n",
       "    }\n",
       "</style>\n",
       "<table border=\"1\" class=\"dataframe\">\n",
       "  <thead>\n",
       "    <tr style=\"text-align: right;\">\n",
       "      <th></th>\n",
       "      <th>Arrest</th>\n",
       "      <th>Domestic</th>\n",
       "      <th>Crimes Against</th>\n",
       "      <th>beat_no</th>\n",
       "      <th>Location Description_AIRCRAFT</th>\n",
       "      <th>Location Description_AIRPORT BUILDING NON-TERMINAL - NON-SECURE AREA</th>\n",
       "      <th>Location Description_AIRPORT BUILDING NON-TERMINAL - SECURE AREA</th>\n",
       "      <th>Location Description_AIRPORT EXTERIOR - NON-SECURE AREA</th>\n",
       "      <th>Location Description_AIRPORT EXTERIOR - SECURE AREA</th>\n",
       "      <th>Location Description_AIRPORT PARKING LOT</th>\n",
       "      <th>...</th>\n",
       "      <th>Community Area_72.0</th>\n",
       "      <th>Community Area_73.0</th>\n",
       "      <th>Community Area_74.0</th>\n",
       "      <th>Community Area_75.0</th>\n",
       "      <th>Community Area_76.0</th>\n",
       "      <th>Community Area_77.0</th>\n",
       "      <th>Year</th>\n",
       "      <th>Month</th>\n",
       "      <th>Day</th>\n",
       "      <th>Hour</th>\n",
       "    </tr>\n",
       "  </thead>\n",
       "  <tbody>\n",
       "    <tr>\n",
       "      <th>3210128</th>\n",
       "      <td>1</td>\n",
       "      <td>1</td>\n",
       "      <td>Persons</td>\n",
       "      <td>12</td>\n",
       "      <td>0</td>\n",
       "      <td>0</td>\n",
       "      <td>0</td>\n",
       "      <td>0</td>\n",
       "      <td>0</td>\n",
       "      <td>0</td>\n",
       "      <td>...</td>\n",
       "      <td>0</td>\n",
       "      <td>0</td>\n",
       "      <td>0</td>\n",
       "      <td>0</td>\n",
       "      <td>0</td>\n",
       "      <td>0</td>\n",
       "      <td>2003</td>\n",
       "      <td>8</td>\n",
       "      <td>15</td>\n",
       "      <td>22</td>\n",
       "    </tr>\n",
       "    <tr>\n",
       "      <th>2571066</th>\n",
       "      <td>1</td>\n",
       "      <td>0</td>\n",
       "      <td>Society</td>\n",
       "      <td>15</td>\n",
       "      <td>0</td>\n",
       "      <td>0</td>\n",
       "      <td>0</td>\n",
       "      <td>0</td>\n",
       "      <td>0</td>\n",
       "      <td>0</td>\n",
       "      <td>...</td>\n",
       "      <td>0</td>\n",
       "      <td>0</td>\n",
       "      <td>0</td>\n",
       "      <td>0</td>\n",
       "      <td>0</td>\n",
       "      <td>0</td>\n",
       "      <td>2011</td>\n",
       "      <td>10</td>\n",
       "      <td>6</td>\n",
       "      <td>0</td>\n",
       "    </tr>\n",
       "  </tbody>\n",
       "</table>\n",
       "<p>2 rows × 652 columns</p>\n",
       "</div>"
      ],
      "text/plain": [
       "         Arrest  Domestic Crimes Against  beat_no  \\\n",
       "3210128       1         1        Persons       12   \n",
       "2571066       1         0        Society       15   \n",
       "\n",
       "         Location Description_AIRCRAFT  \\\n",
       "3210128                              0   \n",
       "2571066                              0   \n",
       "\n",
       "         Location Description_AIRPORT BUILDING NON-TERMINAL - NON-SECURE AREA  \\\n",
       "3210128                                                  0                      \n",
       "2571066                                                  0                      \n",
       "\n",
       "         Location Description_AIRPORT BUILDING NON-TERMINAL - SECURE AREA  \\\n",
       "3210128                                                  0                  \n",
       "2571066                                                  0                  \n",
       "\n",
       "         Location Description_AIRPORT EXTERIOR - NON-SECURE AREA  \\\n",
       "3210128                                                  0         \n",
       "2571066                                                  0         \n",
       "\n",
       "         Location Description_AIRPORT EXTERIOR - SECURE AREA  \\\n",
       "3210128                                                  0     \n",
       "2571066                                                  0     \n",
       "\n",
       "         Location Description_AIRPORT PARKING LOT  ...  Community Area_72.0  \\\n",
       "3210128                                         0  ...                    0   \n",
       "2571066                                         0  ...                    0   \n",
       "\n",
       "         Community Area_73.0  Community Area_74.0  Community Area_75.0  \\\n",
       "3210128                    0                    0                    0   \n",
       "2571066                    0                    0                    0   \n",
       "\n",
       "         Community Area_76.0  Community Area_77.0  Year  Month  Day  Hour  \n",
       "3210128                    0                    0  2003      8   15    22  \n",
       "2571066                    0                    0  2011     10    6     0  \n",
       "\n",
       "[2 rows x 652 columns]"
      ]
     },
     "execution_count": 51,
     "metadata": {},
     "output_type": "execute_result"
    }
   ],
   "source": [
    "#make a new datafram by coping <df2_dammy>\n",
    "df_valid = df_models_valid.copy()\n",
    "print(df_valid.shape)\n",
    "df_valid.head(2)"
   ]
  },
  {
   "attachments": {},
   "cell_type": "markdown",
   "id": "01dd4ad7-ec21-4f79-8bbf-afbf0d3023f3",
   "metadata": {
    "tags": []
   },
   "source": [
    "##### validation"
   ]
  },
  {
   "cell_type": "code",
   "execution_count": 52,
   "id": "db32470c",
   "metadata": {},
   "outputs": [],
   "source": [
    "#target\n",
    "y3 = pd.factorize(df_valid['Crimes Against'])[0]\n",
    "# Convert Categorical Attributes to Numerical\n",
    "#https://www.kaggle.com/code/heng8835/classification-with-ml-predict-crime-type\n",
    "\n",
    "#features\n",
    "X3 = df_valid.drop(columns='Crimes Against')"
   ]
  },
  {
   "cell_type": "code",
   "execution_count": 53,
   "id": "cc175172",
   "metadata": {},
   "outputs": [
    {
     "data": {
      "text/plain": [
       "array([0, 1, 2, ..., 0, 2, 0], dtype=int64)"
      ]
     },
     "execution_count": 53,
     "metadata": {},
     "output_type": "execute_result"
    }
   ],
   "source": [
    "y3"
   ]
  },
  {
   "cell_type": "code",
   "execution_count": 54,
   "id": "c1c23fce",
   "metadata": {},
   "outputs": [
    {
     "data": {
      "text/html": [
       "<div>\n",
       "<style scoped>\n",
       "    .dataframe tbody tr th:only-of-type {\n",
       "        vertical-align: middle;\n",
       "    }\n",
       "\n",
       "    .dataframe tbody tr th {\n",
       "        vertical-align: top;\n",
       "    }\n",
       "\n",
       "    .dataframe thead th {\n",
       "        text-align: right;\n",
       "    }\n",
       "</style>\n",
       "<table border=\"1\" class=\"dataframe\">\n",
       "  <thead>\n",
       "    <tr style=\"text-align: right;\">\n",
       "      <th></th>\n",
       "      <th>y3</th>\n",
       "    </tr>\n",
       "  </thead>\n",
       "  <tbody>\n",
       "    <tr>\n",
       "      <th>0</th>\n",
       "      <td>0</td>\n",
       "    </tr>\n",
       "    <tr>\n",
       "      <th>1</th>\n",
       "      <td>1</td>\n",
       "    </tr>\n",
       "    <tr>\n",
       "      <th>2</th>\n",
       "      <td>2</td>\n",
       "    </tr>\n",
       "    <tr>\n",
       "      <th>3</th>\n",
       "      <td>0</td>\n",
       "    </tr>\n",
       "    <tr>\n",
       "      <th>4</th>\n",
       "      <td>0</td>\n",
       "    </tr>\n",
       "  </tbody>\n",
       "</table>\n",
       "</div>"
      ],
      "text/plain": [
       "   y3\n",
       "0   0\n",
       "1   1\n",
       "2   2\n",
       "3   0\n",
       "4   0"
      ]
     },
     "execution_count": 54,
     "metadata": {},
     "output_type": "execute_result"
    }
   ],
   "source": [
    "crimesAgainst = pd.DataFrame({'y3': y3})\n",
    "crimesAgainst.head()"
   ]
  },
  {
   "cell_type": "code",
   "execution_count": 55,
   "id": "af30bfb9",
   "metadata": {},
   "outputs": [],
   "source": [
    "# Taking a chunk for the 20% test set\n",
    "X3_remainder, X3_test, y3_remainder, y3_test = train_test_split(\n",
    "                                        X3, y3, test_size = 0.2, stratify=y3, random_state=1)"
   ]
  },
  {
   "cell_type": "code",
   "execution_count": 56,
   "id": "9da47217",
   "metadata": {},
   "outputs": [
    {
     "data": {
      "text/plain": [
       "<Figure size 640x480 with 0 Axes>"
      ]
     },
     "metadata": {},
     "output_type": "display_data"
    },
    {
     "data": {
      "image/png": "[encoded data removed]",
      "text/plain": [
       "<Figure size 400x400 with 1 Axes>"
      ]
     },
     "metadata": {},
     "output_type": "display_data"
    },
    {
     "data": {
      "image/png": "[encoded data removed]",
      "text/plain": [
       "<Figure size 400x400 with 1 Axes>"
      ]
     },
     "metadata": {},
     "output_type": "display_data"
    }
   ],
   "source": [
    "#https://matplotlib.org/stable/gallery/lines_bars_and_markers/bar_label_demo.html\n",
    "\n",
    "#\n",
    "crimes_Against = crimesAgainst['y3'].value_counts()\n",
    "percent = crimes_Against/crimesAgainst.shape[0]*100\n",
    "\n",
    "#plot with bar\n",
    "plt.figure()\n",
    "\n",
    "#numbers\n",
    "crims = list(crimes_Against.index)\n",
    "counts = list(crimes_Against.values)\n",
    "\n",
    "fig, ax = plt.subplots(figsize = (4,4))\n",
    "bar_container = ax.bar(crims, counts)\n",
    "ax.set(xlabel='Crimes Against', ylabel='Number of crimes', title='Distribution of The Type of Crims Against')\n",
    "ax.bar_label(bar_container, fmt='{:,.0f}')\n",
    "\n",
    "\n",
    "#percentages\n",
    "fig, ax = plt.subplots(figsize = (4,4))\n",
    "bar_container = ax.bar(list(percent.index), list(percent.values))\n",
    "ax.set(xlabel='Crimes Against', ylabel='Number of crimes (%)', title='Distribution of The Type of Crims Against')\n",
    "ax.bar_label(bar_container, fmt='{:0.2f}')\n",
    "\n",
    "plt.show()"
   ]
  },
  {
   "attachments": {},
   "cell_type": "markdown",
   "id": "f646aa0a",
   "metadata": {},
   "source": [
    "x-axis: 0.0, 1.0, 2.0 in the graphes above --> 'Person', 'Society', 'Property'"
   ]
  },
  {
   "attachments": {},
   "cell_type": "markdown",
   "id": "057410d9",
   "metadata": {},
   "source": [
    "- `X_remainder` and `y_remainder`: $80$%\n",
    "- `X_test` and `y_test`: $20$%"
   ]
  },
  {
   "cell_type": "code",
   "execution_count": 57,
   "id": "7e7876a5",
   "metadata": {},
   "outputs": [
    {
     "data": {
      "text/plain": [
       "array([1, 2, 2, ..., 2, 1, 2], dtype=int64)"
      ]
     },
     "execution_count": 57,
     "metadata": {},
     "output_type": "execute_result"
    }
   ],
   "source": [
    "#y3_remainder\n",
    "y3_remainder"
   ]
  },
  {
   "cell_type": "code",
   "execution_count": 58,
   "id": "d21e708c",
   "metadata": {},
   "outputs": [
    {
     "data": {
      "text/html": [
       "<div>\n",
       "<style scoped>\n",
       "    .dataframe tbody tr th:only-of-type {\n",
       "        vertical-align: middle;\n",
       "    }\n",
       "\n",
       "    .dataframe tbody tr th {\n",
       "        vertical-align: top;\n",
       "    }\n",
       "\n",
       "    .dataframe thead th {\n",
       "        text-align: right;\n",
       "    }\n",
       "</style>\n",
       "<table border=\"1\" class=\"dataframe\">\n",
       "  <thead>\n",
       "    <tr style=\"text-align: right;\">\n",
       "      <th></th>\n",
       "      <th>0</th>\n",
       "    </tr>\n",
       "  </thead>\n",
       "  <tbody>\n",
       "    <tr>\n",
       "      <th>0</th>\n",
       "      <td>1</td>\n",
       "    </tr>\n",
       "    <tr>\n",
       "      <th>1</th>\n",
       "      <td>2</td>\n",
       "    </tr>\n",
       "    <tr>\n",
       "      <th>2</th>\n",
       "      <td>2</td>\n",
       "    </tr>\n",
       "    <tr>\n",
       "      <th>3</th>\n",
       "      <td>0</td>\n",
       "    </tr>\n",
       "    <tr>\n",
       "      <th>4</th>\n",
       "      <td>1</td>\n",
       "    </tr>\n",
       "  </tbody>\n",
       "</table>\n",
       "</div>"
      ],
      "text/plain": [
       "   0\n",
       "0  1\n",
       "1  2\n",
       "2  2\n",
       "3  0\n",
       "4  1"
      ]
     },
     "execution_count": 58,
     "metadata": {},
     "output_type": "execute_result"
    }
   ],
   "source": [
    "#make a dataframe for 'y3_remainder'\n",
    "y_df = pd.DataFrame(y3_remainder)\n",
    "y_df.head()"
   ]
  },
  {
   "cell_type": "code",
   "execution_count": 59,
   "id": "43033807",
   "metadata": {},
   "outputs": [],
   "source": [
    "# #\n",
    "# crimes_Against = y_df.value_counts()\n",
    "# percent = crimes_Against/crimesAgainst.shape[0]*100\n",
    "\n",
    "# #plot with bar\n",
    "# plt.figure()\n",
    "\n",
    "# #numbers\n",
    "# crims = list(crimes_Against.index)\n",
    "# counts = list(crimes_Against.values)\n",
    "\n",
    "# fig, ax = plt.subplots(figsize = (4,4))\n",
    "# bar_container = ax.bar(crims, counts)\n",
    "# ax.set(xlabel='Crimes Against', ylabel='Number of crimes', title='Distribution of The Type of Crims Against')\n",
    "# ax.bar_label(bar_container, fmt='{:,.0f}')\n",
    "\n",
    "\n",
    "# #percentages\n",
    "# fig, ax = plt.subplots(figsize = (4,4))\n",
    "# bar_container = ax.bar(list(percent.index), list(percent.values))\n",
    "# ax.set(xlabel='Crimes Against', ylabel='Number of crimes (%)', title='Distribution of The Type of Crims Against')\n",
    "# ax.bar_label(bar_container, fmt='{:0.2f}')\n",
    "\n",
    "# plt.show()\n",
    "\n",
    "### get an error but no time to check. skip this part. assume the destributios are the same"
   ]
  },
  {
   "cell_type": "code",
   "execution_count": 60,
   "id": "f3a7d8a2",
   "metadata": {},
   "outputs": [],
   "source": [
    "# Splitting the remainder in two chunks\n",
    "X3_train, X3_valid, y3_train, y3_valid = train_test_split(\n",
    "                        X3_remainder, y3_remainder, test_size = 0.3, stratify=y3_remainder, random_state=1)"
   ]
  },
  {
   "attachments": {},
   "cell_type": "markdown",
   "id": "b5d34f21",
   "metadata": {},
   "source": [
    "from the remainder set:\n",
    "- `X_train` and `y_train`: $70$% ( $56$% = $80$ * $70$ )\n",
    "- `X_valid` and `y_valid`: $30$% ( $24$% = $80$ * $30$ )"
   ]
  },
  {
   "cell_type": "code",
   "execution_count": 61,
   "id": "576d2f95",
   "metadata": {},
   "outputs": [
    {
     "name": "stdout",
     "output_type": "stream",
     "text": [
      "Expected sizes: train(25810.4), validation(11061.6), \ttest(9218.0)\n",
      "Actual sizes: \ttrain(25810), \tvalidation(11062), \ttest(9218)\n"
     ]
    }
   ],
   "source": [
    "#expected size\n",
    "print(f'Expected sizes: train({46090*0.56}), validation({46090*0.24}), \\ttest({46090*0.2})')\n",
    "#actual size\n",
    "print(f'Actual sizes: \\ttrain({X3_train.shape[0]}), \\tvalidation({X3_valid.shape[0]}), \\ttest({X3_test.shape[0]})')"
   ]
  },
  {
   "cell_type": "code",
   "execution_count": 62,
   "id": "a6d2e0a3",
   "metadata": {},
   "outputs": [
    {
     "data": {
      "text/plain": [
       "(25810, 651)"
      ]
     },
     "execution_count": 62,
     "metadata": {},
     "output_type": "execute_result"
    }
   ],
   "source": [
    "X3_train.shape"
   ]
  },
  {
   "attachments": {},
   "cell_type": "markdown",
   "id": "7484afed",
   "metadata": {},
   "source": [
    "---"
   ]
  },
  {
   "cell_type": "code",
   "execution_count": 63,
   "id": "70a770cb",
   "metadata": {},
   "outputs": [],
   "source": [
    "import warnings\n",
    "warnings.filterwarnings('ignore')"
   ]
  },
  {
   "cell_type": "code",
   "execution_count": 64,
   "id": "e18418d8",
   "metadata": {},
   "outputs": [],
   "source": [
    "#scale\n",
    "scaler = StandardScaler()\n",
    "scaler.fit(X3_train)\n",
    "#transform\n",
    "X3_train_sc = scaler.transform(X3_train)\n",
    "X3_validation_sc = scaler.transform(X3_valid)\n",
    "X3_test_sc = scaler.transform(X3_test)"
   ]
  },
  {
   "cell_type": "code",
   "execution_count": 65,
   "id": "518df72f",
   "metadata": {},
   "outputs": [],
   "source": [
    "k_values = list(range(1, 100, 2))\n",
    "train_scores = []\n",
    "validation_scores = []\n",
    "\n",
    "for k in k_values:  \n",
    "    knn = KNeighborsClassifier(n_neighbors=k)\n",
    "    knn.fit(X3_train_sc, y3_train)\n",
    "    \n",
    "    # Evaluate\n",
    "    train_scores.append(knn.score(X3_train_sc, y3_train))\n",
    "    validation_scores.append(knn.score(X3_validation_sc, y3_valid))"
   ]
  },
  {
   "cell_type": "code",
   "execution_count": 66,
   "id": "da2645e0",
   "metadata": {},
   "outputs": [
    {
     "data": {
      "image/png": "[encoded data removed]",
      "text/plain": [
       "<Figure size 1000x700 with 1 Axes>"
      ]
     },
     "metadata": {},
     "output_type": "display_data"
    }
   ],
   "source": [
    "# Visualize our scores\n",
    "plt.figure(figsize=(10, 7))\n",
    "plt.plot(k_values, train_scores, c='blue', label='train')\n",
    "plt.plot(k_values, validation_scores, c='red', label='validation')\n",
    "plt.xlabel('n neighbors')\n",
    "plt.ylabel('accuracy')\n",
    "plt.title(\"KNN number of neighbors parameter tuning\")\n",
    "plt.legend()\n",
    "plt.show()"
   ]
  },
  {
   "cell_type": "code",
   "execution_count": 67,
   "id": "e9fa0f34",
   "metadata": {},
   "outputs": [
    {
     "data": {
      "text/plain": [
       "97"
      ]
     },
     "execution_count": 67,
     "metadata": {},
     "output_type": "execute_result"
    }
   ],
   "source": [
    "# the index of the minimal distance\n",
    "best_idx = np.argmin(np.abs(np.array(train_scores) - np.array(validation_scores)))\n",
    "k_values[best_idx]"
   ]
  },
  {
   "attachments": {},
   "cell_type": "markdown",
   "id": "32b1aafd",
   "metadata": {},
   "source": [
    "chose 40 that the defference is getting smaller, and two lines are not changing their scores much. Then, lower the number for n neighbors is better "
   ]
  },
  {
   "cell_type": "code",
   "execution_count": 76,
   "id": "2f62c07f",
   "metadata": {},
   "outputs": [
    {
     "name": "stdout",
     "output_type": "stream",
     "text": [
      "0.473\n"
     ]
    }
   ],
   "source": [
    "final_model = KNeighborsClassifier(n_neighbors=40)\n",
    "\n",
    "final_model.fit(X3_train_sc, y3_train)\n",
    "print(f'{final_model.score(X3_test_sc,y3_test):0.3f}')"
   ]
  },
  {
   "cell_type": "code",
   "execution_count": 77,
   "id": "487fc8f9",
   "metadata": {},
   "outputs": [
    {
     "data": {
      "text/html": [
       "<div>\n",
       "<style scoped>\n",
       "    .dataframe tbody tr th:only-of-type {\n",
       "        vertical-align: middle;\n",
       "    }\n",
       "\n",
       "    .dataframe tbody tr th {\n",
       "        vertical-align: top;\n",
       "    }\n",
       "\n",
       "    .dataframe thead th {\n",
       "        text-align: right;\n",
       "    }\n",
       "</style>\n",
       "<table border=\"1\" class=\"dataframe\">\n",
       "  <thead>\n",
       "    <tr style=\"text-align: right;\">\n",
       "      <th></th>\n",
       "      <th>Predicted Person (0)</th>\n",
       "      <th>Predicted Society (1)</th>\n",
       "      <th>Predicted Property (2)</th>\n",
       "    </tr>\n",
       "  </thead>\n",
       "  <tbody>\n",
       "    <tr>\n",
       "      <th>Person</th>\n",
       "      <td>2330</td>\n",
       "      <td>1048</td>\n",
       "      <td>357</td>\n",
       "    </tr>\n",
       "    <tr>\n",
       "      <th>Society</th>\n",
       "      <td>1421</td>\n",
       "      <td>1573</td>\n",
       "      <td>246</td>\n",
       "    </tr>\n",
       "    <tr>\n",
       "      <th>Property</th>\n",
       "      <td>1187</td>\n",
       "      <td>599</td>\n",
       "      <td>457</td>\n",
       "    </tr>\n",
       "  </tbody>\n",
       "</table>\n",
       "</div>"
      ],
      "text/plain": [
       "          Predicted Person (0)  Predicted Society (1)  Predicted Property (2)\n",
       "Person                    2330                   1048                     357\n",
       "Society                   1421                   1573                     246\n",
       "Property                  1187                    599                     457"
      ]
     },
     "metadata": {},
     "output_type": "display_data"
    },
    {
     "data": {
      "text/plain": [
       "<sklearn.metrics._plot.confusion_matrix.ConfusionMatrixDisplay at 0x29023dc3d90>"
      ]
     },
     "execution_count": 77,
     "metadata": {},
     "output_type": "execute_result"
    },
    {
     "data": {
      "image/png": "[encoded data removed]",
      "text/plain": [
       "<Figure size 640x480 with 2 Axes>"
      ]
     },
     "metadata": {},
     "output_type": "display_data"
    }
   ],
   "source": [
    "# Get class predictions\n",
    "y_pred = final_model.predict(X3_test_sc)\n",
    "\n",
    "# Generate confusion matrix\n",
    "cf_matrix = confusion_matrix(y3_test, y_pred)\n",
    "\n",
    "# label rows and columns\n",
    "cf_df = pd.DataFrame(\n",
    "    cf_matrix,\n",
    "    columns=['Predicted Person (0)', 'Predicted Society (1)', 'Predicted Property (2)'],\n",
    "        index=['Person', 'Society', 'Property']\n",
    ")\n",
    "\n",
    "display(cf_df)\n",
    "\n",
    "# the function expects the estimator, inputs and target as parameters\n",
    "ConfusionMatrixDisplay.from_estimator(final_model, X3_test_sc, y3_test)"
   ]
  },
  {
   "attachments": {},
   "cell_type": "markdown",
   "id": "827e44aa",
   "metadata": {},
   "source": [
    "Correct Predicttions:\n",
    "- 2330 for Crimes Agains Person (0)\n",
    "- 1573 for Crimes Against Society (1)\n",
    "- 457 for Crimes Against Property (2)\n",
    "\n",
    "Wrong Predictions\n",
    "- 1421 predicted as 0 instead of 1\n",
    "- 1187 predicted as 0 instead of 2\n",
    "- 1048 predicted as 1 instead of 0\n",
    "- 599 predicted as 1 instead of 2\n",
    "- 357 predicted as 2 instead of 0\n",
    "- 457 predicted as 2 instead of 1"
   ]
  },
  {
   "cell_type": "code",
   "execution_count": 78,
   "id": "63ef756a",
   "metadata": {},
   "outputs": [
    {
     "name": "stdout",
     "output_type": "stream",
     "text": [
      "              precision    recall  f1-score   support\n",
      "\n",
      "           0       0.47      0.62      0.54      3735\n",
      "           1       0.49      0.49      0.49      3240\n",
      "           2       0.43      0.20      0.28      2243\n",
      "\n",
      "    accuracy                           0.47      9218\n",
      "   macro avg       0.46      0.44      0.43      9218\n",
      "weighted avg       0.47      0.47      0.46      9218\n",
      "\n"
     ]
    }
   ],
   "source": [
    "from sklearn.metrics import classification_report\n",
    "\n",
    "report_initial = classification_report(y3_test, y_pred)\n",
    "print(report_initial)"
   ]
  },
  {
   "attachments": {},
   "cell_type": "markdown",
   "id": "52a0a8f6",
   "metadata": {},
   "source": [
    "Precision: how many of them are correctly predicted in the predicted group.\n",
    "recall: how many of them are correctly predictted in the group\n",
    "\n",
    "Crimes Agains Person (0):\n",
    "- 47% is 0 and 53% is 1 or 2 in the predicted group 0 \n",
    "- 62% is 0 in the predicted group 0 and 38% is 0 in the defferent group: 1 or 2\n",
    "\n",
    "Crimes Against Society (1):\n",
    "- 49% is 1 and 51% is 0 or 2 in the predicted group 1 \n",
    "- 49% is 1 in the predicted group 1 and 51% is 1 in the defferent group: 0 or 2\n",
    "\n",
    "Crimes Against Property (2):\n",
    "- 43% is 2 and 57% is 0 or 1 in the predicted group 2\n",
    "- 20% is 2 in the predicted group 2 and 80% is 2 in the defferent group: 0 or 1"
   ]
  }
 ],
 "metadata": {
  "kernelspec": {
   "display_name": "Python 3 (ipykernel)",
   "language": "python",
   "name": "python3"
  },
  "language_info": {
   "codemirror_mode": {
    "name": "ipython",
    "version": 3
   },
   "file_extension": ".py",
   "mimetype": "text/x-python",
   "name": "python",
   "nbconvert_exporter": "python",
   "pygments_lexer": "ipython3",
   "version": "3.10.9"
  }
 },
 "nbformat": 4,
 "nbformat_minor": 5
}
