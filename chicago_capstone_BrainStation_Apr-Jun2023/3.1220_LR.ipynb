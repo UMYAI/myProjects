{
 "cells": [
  {
   "attachments": {},
   "cell_type": "markdown",
   "id": "2f323cdd",
   "metadata": {},
   "source": [
    "This file is about the Logistic Regression(LR)\n",
    "- validation\n",
    "- scale and transform\n",
    "- exploring the C value\n",
    "- an accurecy score\n",
    "- confusion matrix and a report\n",
    "\n",
    "Until the line, above **model**, code are the same for all 4 files for models"
   ]
  },
  {
   "cell_type": "code",
   "execution_count": 82,
   "id": "58afef0a",
   "metadata": {},
   "outputs": [],
   "source": [
    "import numpy as np\n",
    "import pandas as pd\n",
    "\n",
    "import matplotlib.pyplot as plt\n",
    "\n",
    "from sklearn.model_selection import train_test_split\n",
    "from sklearn.preprocessing import StandardScaler\n",
    "from sklearn.linear_model import LogisticRegression\n",
    "\n",
    "from sklearn.metrics import confusion_matrix, ConfusionMatrixDisplay\n",
    "\n",
    "#from 2.1_0_models_quick.ipynb\n",
    "%store -r df_models_valid"
   ]
  },
  {
   "cell_type": "code",
   "execution_count": 83,
   "id": "8240ccc6",
   "metadata": {},
   "outputs": [
    {
     "name": "stdout",
     "output_type": "stream",
     "text": [
      "(46090, 652)\n"
     ]
    },
    {
     "data": {
      "text/html": [
       "<div>\n",
       "<style scoped>\n",
       "    .dataframe tbody tr th:only-of-type {\n",
       "        vertical-align: middle;\n",
       "    }\n",
       "\n",
       "    .dataframe tbody tr th {\n",
       "        vertical-align: top;\n",
       "    }\n",
       "\n",
       "    .dataframe thead th {\n",
       "        text-align: right;\n",
       "    }\n",
       "</style>\n",
       "<table border=\"1\" class=\"dataframe\">\n",
       "  <thead>\n",
       "    <tr style=\"text-align: right;\">\n",
       "      <th></th>\n",
       "      <th>Arrest</th>\n",
       "      <th>Domestic</th>\n",
       "      <th>Crimes Against</th>\n",
       "      <th>beat_no</th>\n",
       "      <th>Location Description_AIRCRAFT</th>\n",
       "      <th>Location Description_AIRPORT BUILDING NON-TERMINAL - NON-SECURE AREA</th>\n",
       "      <th>Location Description_AIRPORT BUILDING NON-TERMINAL - SECURE AREA</th>\n",
       "      <th>Location Description_AIRPORT EXTERIOR - NON-SECURE AREA</th>\n",
       "      <th>Location Description_AIRPORT EXTERIOR - SECURE AREA</th>\n",
       "      <th>Location Description_AIRPORT PARKING LOT</th>\n",
       "      <th>...</th>\n",
       "      <th>Community Area_72.0</th>\n",
       "      <th>Community Area_73.0</th>\n",
       "      <th>Community Area_74.0</th>\n",
       "      <th>Community Area_75.0</th>\n",
       "      <th>Community Area_76.0</th>\n",
       "      <th>Community Area_77.0</th>\n",
       "      <th>Year</th>\n",
       "      <th>Month</th>\n",
       "      <th>Day</th>\n",
       "      <th>Hour</th>\n",
       "    </tr>\n",
       "  </thead>\n",
       "  <tbody>\n",
       "    <tr>\n",
       "      <th>3210128</th>\n",
       "      <td>1</td>\n",
       "      <td>1</td>\n",
       "      <td>Persons</td>\n",
       "      <td>12</td>\n",
       "      <td>0</td>\n",
       "      <td>0</td>\n",
       "      <td>0</td>\n",
       "      <td>0</td>\n",
       "      <td>0</td>\n",
       "      <td>0</td>\n",
       "      <td>...</td>\n",
       "      <td>0</td>\n",
       "      <td>0</td>\n",
       "      <td>0</td>\n",
       "      <td>0</td>\n",
       "      <td>0</td>\n",
       "      <td>0</td>\n",
       "      <td>2003</td>\n",
       "      <td>8</td>\n",
       "      <td>15</td>\n",
       "      <td>22</td>\n",
       "    </tr>\n",
       "    <tr>\n",
       "      <th>2571066</th>\n",
       "      <td>1</td>\n",
       "      <td>0</td>\n",
       "      <td>Society</td>\n",
       "      <td>15</td>\n",
       "      <td>0</td>\n",
       "      <td>0</td>\n",
       "      <td>0</td>\n",
       "      <td>0</td>\n",
       "      <td>0</td>\n",
       "      <td>0</td>\n",
       "      <td>...</td>\n",
       "      <td>0</td>\n",
       "      <td>0</td>\n",
       "      <td>0</td>\n",
       "      <td>0</td>\n",
       "      <td>0</td>\n",
       "      <td>0</td>\n",
       "      <td>2011</td>\n",
       "      <td>10</td>\n",
       "      <td>6</td>\n",
       "      <td>0</td>\n",
       "    </tr>\n",
       "  </tbody>\n",
       "</table>\n",
       "<p>2 rows × 652 columns</p>\n",
       "</div>"
      ],
      "text/plain": [
       "         Arrest  Domestic Crimes Against  beat_no  \\\n",
       "3210128       1         1        Persons       12   \n",
       "2571066       1         0        Society       15   \n",
       "\n",
       "         Location Description_AIRCRAFT  \\\n",
       "3210128                              0   \n",
       "2571066                              0   \n",
       "\n",
       "         Location Description_AIRPORT BUILDING NON-TERMINAL - NON-SECURE AREA  \\\n",
       "3210128                                                  0                      \n",
       "2571066                                                  0                      \n",
       "\n",
       "         Location Description_AIRPORT BUILDING NON-TERMINAL - SECURE AREA  \\\n",
       "3210128                                                  0                  \n",
       "2571066                                                  0                  \n",
       "\n",
       "         Location Description_AIRPORT EXTERIOR - NON-SECURE AREA  \\\n",
       "3210128                                                  0         \n",
       "2571066                                                  0         \n",
       "\n",
       "         Location Description_AIRPORT EXTERIOR - SECURE AREA  \\\n",
       "3210128                                                  0     \n",
       "2571066                                                  0     \n",
       "\n",
       "         Location Description_AIRPORT PARKING LOT  ...  Community Area_72.0  \\\n",
       "3210128                                         0  ...                    0   \n",
       "2571066                                         0  ...                    0   \n",
       "\n",
       "         Community Area_73.0  Community Area_74.0  Community Area_75.0  \\\n",
       "3210128                    0                    0                    0   \n",
       "2571066                    0                    0                    0   \n",
       "\n",
       "         Community Area_76.0  Community Area_77.0  Year  Month  Day  Hour  \n",
       "3210128                    0                    0  2003      8   15    22  \n",
       "2571066                    0                    0  2011     10    6     0  \n",
       "\n",
       "[2 rows x 652 columns]"
      ]
     },
     "execution_count": 83,
     "metadata": {},
     "output_type": "execute_result"
    }
   ],
   "source": [
    "#make a new datafram by coping <df2_dammy>\n",
    "df_valid = models_sample.copy()\n",
    "print(df_valid.shape)\n",
    "df_valid.head(2)"
   ]
  },
  {
   "attachments": {},
   "cell_type": "markdown",
   "id": "38ca59be",
   "metadata": {},
   "source": [
    "#### validation"
   ]
  },
  {
   "cell_type": "code",
   "execution_count": 84,
   "id": "db32470c",
   "metadata": {},
   "outputs": [],
   "source": [
    "#target\n",
    "y1 = pd.factorize(df_valid['Crimes Against'])[0]\n",
    "# Convert Categorical Attributes to Numerical\n",
    "#https://www.kaggle.com/code/heng8835/classification-with-ml-predict-crime-type\n",
    "\n",
    "#features\n",
    "X1 = df_valid.drop(columns='Crimes Against')"
   ]
  },
  {
   "cell_type": "code",
   "execution_count": 85,
   "id": "cc175172",
   "metadata": {},
   "outputs": [
    {
     "data": {
      "text/plain": [
       "array([0, 1, 2, ..., 0, 2, 0], dtype=int64)"
      ]
     },
     "execution_count": 85,
     "metadata": {},
     "output_type": "execute_result"
    }
   ],
   "source": [
    "y1"
   ]
  },
  {
   "cell_type": "code",
   "execution_count": 86,
   "id": "16b01377",
   "metadata": {},
   "outputs": [
    {
     "data": {
      "text/html": [
       "<div>\n",
       "<style scoped>\n",
       "    .dataframe tbody tr th:only-of-type {\n",
       "        vertical-align: middle;\n",
       "    }\n",
       "\n",
       "    .dataframe tbody tr th {\n",
       "        vertical-align: top;\n",
       "    }\n",
       "\n",
       "    .dataframe thead th {\n",
       "        text-align: right;\n",
       "    }\n",
       "</style>\n",
       "<table border=\"1\" class=\"dataframe\">\n",
       "  <thead>\n",
       "    <tr style=\"text-align: right;\">\n",
       "      <th></th>\n",
       "      <th>y1</th>\n",
       "    </tr>\n",
       "  </thead>\n",
       "  <tbody>\n",
       "    <tr>\n",
       "      <th>0</th>\n",
       "      <td>0</td>\n",
       "    </tr>\n",
       "    <tr>\n",
       "      <th>1</th>\n",
       "      <td>1</td>\n",
       "    </tr>\n",
       "    <tr>\n",
       "      <th>2</th>\n",
       "      <td>2</td>\n",
       "    </tr>\n",
       "    <tr>\n",
       "      <th>3</th>\n",
       "      <td>0</td>\n",
       "    </tr>\n",
       "    <tr>\n",
       "      <th>4</th>\n",
       "      <td>0</td>\n",
       "    </tr>\n",
       "  </tbody>\n",
       "</table>\n",
       "</div>"
      ],
      "text/plain": [
       "   y1\n",
       "0   0\n",
       "1   1\n",
       "2   2\n",
       "3   0\n",
       "4   0"
      ]
     },
     "execution_count": 86,
     "metadata": {},
     "output_type": "execute_result"
    }
   ],
   "source": [
    "crimesAgainst = pd.DataFrame({'y1': y1})\n",
    "crimesAgainst.head()"
   ]
  },
  {
   "cell_type": "code",
   "execution_count": 87,
   "id": "c81919f0",
   "metadata": {},
   "outputs": [
    {
     "data": {
      "text/plain": [
       "<Figure size 640x480 with 0 Axes>"
      ]
     },
     "metadata": {},
     "output_type": "display_data"
    },
    {
     "data": {
      "image/png": "[encoded data removed]",
      "text/plain": [
       "<Figure size 400x400 with 1 Axes>"
      ]
     },
     "metadata": {},
     "output_type": "display_data"
    },
    {
     "data": {
      "image/png": "[encoded data removed]",
      "text/plain": [
       "<Figure size 400x400 with 1 Axes>"
      ]
     },
     "metadata": {},
     "output_type": "display_data"
    }
   ],
   "source": [
    "#https://matplotlib.org/stable/gallery/lines_bars_and_markers/bar_label_demo.html\n",
    "\n",
    "#\n",
    "crimes_Against = crimesAgainst['y1'].value_counts()\n",
    "percent = crimes_Against/crimesAgainst.shape[0]*100\n",
    "\n",
    "#plot with bar\n",
    "plt.figure()\n",
    "\n",
    "#numbers\n",
    "crims = list(crimes_Against.index)\n",
    "counts = list(crimes_Against.values)\n",
    "\n",
    "fig, ax = plt.subplots(figsize = (4,4))\n",
    "bar_container = ax.bar(crims, counts)\n",
    "ax.set(xlabel='Crimes Against', ylabel='Number of crimes', title='Distribution of The Type of Crims Against')\n",
    "ax.bar_label(bar_container, fmt='{:,.0f}')\n",
    "\n",
    "\n",
    "#percentages\n",
    "fig, ax = plt.subplots(figsize = (4,4))\n",
    "bar_container = ax.bar(list(percent.index), list(percent.values))\n",
    "ax.set(xlabel='Crimes Against', ylabel='Number of crimes (%)', title='Distribution of The Type of Crims Against')\n",
    "ax.bar_label(bar_container, fmt='{:0.2f}')\n",
    "\n",
    "plt.show()"
   ]
  },
  {
   "attachments": {},
   "cell_type": "markdown",
   "id": "7f369898",
   "metadata": {},
   "source": [
    "x-axis: 0.0, 1.0, 2.0 in the graphes above --> 'Person', 'Society', 'Property'"
   ]
  },
  {
   "cell_type": "code",
   "execution_count": 88,
   "id": "af30bfb9",
   "metadata": {},
   "outputs": [],
   "source": [
    "# Taking a chunk for the 20% test set\n",
    "X1_remainder, X1_test, y1_remainder, y1_test = train_test_split(\n",
    "                                        X1, y1, test_size = 0.2, stratify=y1, random_state=1)"
   ]
  },
  {
   "attachments": {},
   "cell_type": "markdown",
   "id": "057410d9",
   "metadata": {},
   "source": [
    "- `X_remainder` and `y_remainder`: $80$%\n",
    "- `X_test` and `y_test`: $20$%"
   ]
  },
  {
   "cell_type": "code",
   "execution_count": 89,
   "id": "4b6b8b8d",
   "metadata": {},
   "outputs": [
    {
     "data": {
      "text/plain": [
       "array([1, 2, 2, ..., 2, 1, 2], dtype=int64)"
      ]
     },
     "execution_count": 89,
     "metadata": {},
     "output_type": "execute_result"
    }
   ],
   "source": [
    "#y1_remainder\n",
    "y1_remainder\n"
   ]
  },
  {
   "cell_type": "code",
   "execution_count": 90,
   "id": "1dd5d4c4",
   "metadata": {},
   "outputs": [
    {
     "data": {
      "text/html": [
       "<div>\n",
       "<style scoped>\n",
       "    .dataframe tbody tr th:only-of-type {\n",
       "        vertical-align: middle;\n",
       "    }\n",
       "\n",
       "    .dataframe tbody tr th {\n",
       "        vertical-align: top;\n",
       "    }\n",
       "\n",
       "    .dataframe thead th {\n",
       "        text-align: right;\n",
       "    }\n",
       "</style>\n",
       "<table border=\"1\" class=\"dataframe\">\n",
       "  <thead>\n",
       "    <tr style=\"text-align: right;\">\n",
       "      <th></th>\n",
       "      <th>0</th>\n",
       "    </tr>\n",
       "  </thead>\n",
       "  <tbody>\n",
       "    <tr>\n",
       "      <th>0</th>\n",
       "      <td>1</td>\n",
       "    </tr>\n",
       "    <tr>\n",
       "      <th>1</th>\n",
       "      <td>2</td>\n",
       "    </tr>\n",
       "    <tr>\n",
       "      <th>2</th>\n",
       "      <td>2</td>\n",
       "    </tr>\n",
       "    <tr>\n",
       "      <th>3</th>\n",
       "      <td>0</td>\n",
       "    </tr>\n",
       "    <tr>\n",
       "      <th>4</th>\n",
       "      <td>1</td>\n",
       "    </tr>\n",
       "  </tbody>\n",
       "</table>\n",
       "</div>"
      ],
      "text/plain": [
       "   0\n",
       "0  1\n",
       "1  2\n",
       "2  2\n",
       "3  0\n",
       "4  1"
      ]
     },
     "execution_count": 90,
     "metadata": {},
     "output_type": "execute_result"
    }
   ],
   "source": [
    "#make a dataframe for 'y1_remainder'\n",
    "y_df = pd.DataFrame(y1_remainder)\n",
    "y_df.head()"
   ]
  },
  {
   "cell_type": "code",
   "execution_count": 91,
   "id": "ca57367d",
   "metadata": {},
   "outputs": [],
   "source": [
    "# #\n",
    "# crimes_Against = y_df.value_counts()\n",
    "# percent = crimes_Against/crimesAgainst.shape[0]*100\n",
    "\n",
    "# #plot with bar\n",
    "# plt.figure()\n",
    "\n",
    "# #numbers\n",
    "# crims = list(crimes_Against.index)\n",
    "# counts = list(crimes_Against.values)\n",
    "\n",
    "# fig, ax = plt.subplots(figsize = (4,4))\n",
    "# bar_container = ax.bar(crims, counts)\n",
    "# ax.set(xlabel='Crimes Against', ylabel='Number of crimes', title='Distribution of The Type of Crims Against')\n",
    "# ax.bar_label(bar_container, fmt='{:,.0f}')\n",
    "\n",
    "\n",
    "# #percentages\n",
    "# fig, ax = plt.subplots(figsize = (4,4))\n",
    "# bar_container = ax.bar(list(percent.index), list(percent.values))\n",
    "# ax.set(xlabel='Crimes Against', ylabel='Number of crimes (%)', title='Distribution of The Type of Crims Against')\n",
    "# ax.bar_label(bar_container, fmt='{:0.2f}')\n",
    "\n",
    "# plt.show()\n",
    "\n",
    "### get an error but no time to check. skip this part. assume the destributios are the same"
   ]
  },
  {
   "cell_type": "code",
   "execution_count": 92,
   "id": "f3a7d8a2",
   "metadata": {},
   "outputs": [],
   "source": [
    "# Splitting the remainder in two chunks\n",
    "X1_train, X1_valid, y1_train, y1_valid = train_test_split(\n",
    "                        X1_remainder, y1_remainder, test_size = 0.3, stratify=y1_remainder, random_state=1)"
   ]
  },
  {
   "attachments": {},
   "cell_type": "markdown",
   "id": "b5d34f21",
   "metadata": {},
   "source": [
    "from the remainder set:\n",
    "- `X_train` and `y_train`: $70$% ( $56$% = $80$ * $70$ )\n",
    "- `X_valid` and `y_valid`: $30$% ( $24$% = $80$ * $30$ )"
   ]
  },
  {
   "cell_type": "code",
   "execution_count": 93,
   "id": "572ef405",
   "metadata": {},
   "outputs": [
    {
     "name": "stdout",
     "output_type": "stream",
     "text": [
      "Expected sizes: train(25810.4), validation(11061.6), \ttest(9218.0)\n",
      "Actual sizes: \ttrain(25810), \tvalidation(11062), \ttest(9218)\n"
     ]
    }
   ],
   "source": [
    "#expected size\n",
    "print(f'Expected sizes: train({46090*0.56}), validation({46090*0.24}), \\ttest({46090*0.2})')\n",
    "#actual size\n",
    "print(f'Actual sizes: \\ttrain({X1_train.shape[0]}), \\tvalidation({X1_valid.shape[0]}), \\ttest({X1_test.shape[0]})')"
   ]
  },
  {
   "cell_type": "code",
   "execution_count": 94,
   "id": "a6d2e0a3",
   "metadata": {},
   "outputs": [
    {
     "data": {
      "text/plain": [
       "(25810, 651)"
      ]
     },
     "execution_count": 94,
     "metadata": {},
     "output_type": "execute_result"
    }
   ],
   "source": [
    "X1_train.shape"
   ]
  },
  {
   "attachments": {},
   "cell_type": "markdown",
   "id": "7484afed",
   "metadata": {},
   "source": [
    "---"
   ]
  },
  {
   "attachments": {},
   "cell_type": "markdown",
   "id": "88a8e526",
   "metadata": {},
   "source": [
    "#### model"
   ]
  },
  {
   "cell_type": "code",
   "execution_count": 95,
   "id": "a4f4fe62",
   "metadata": {},
   "outputs": [],
   "source": [
    "import warnings\n",
    "warnings.filterwarnings('ignore')"
   ]
  },
  {
   "cell_type": "code",
   "execution_count": 96,
   "id": "c9fc98ec",
   "metadata": {},
   "outputs": [],
   "source": [
    "#scale\n",
    "scaler = StandardScaler()\n",
    "scaler.fit(X1_train)\n",
    "#transform\n",
    "X1_train_sc = scaler.transform(X1_train)\n",
    "X1_validation_sc = scaler.transform(X1_valid)\n",
    "X1_test_sc = scaler.transform(X1_test)"
   ]
  },
  {
   "cell_type": "code",
   "execution_count": 97,
   "id": "518df72f",
   "metadata": {},
   "outputs": [],
   "source": [
    "validation_scores = []\n",
    "train_scores = []\n",
    "\n",
    "C_range = []\n",
    "for i in range(-8, 15):\n",
    "    C_range.append(10**i)\n",
    "\n",
    "for c in C_range:\n",
    "    logreg = LogisticRegression(C = c,random_state=1)\n",
    "    logreg.fit(X1_train_sc,y1_train)\n",
    "    \n",
    "    # train on traning set\n",
    "    train_scores.append(logreg.score(X1_train_sc,y1_train))\n",
    "    # score on validation set\n",
    "    validation_scores.append(logreg.score(X1_validation_sc,y1_valid))"
   ]
  },
  {
   "cell_type": "code",
   "execution_count": 98,
   "id": "da2645e0",
   "metadata": {},
   "outputs": [
    {
     "data": {
      "image/png": "[encoded data removed]",
      "text/plain": [
       "<Figure size 640x480 with 1 Axes>"
      ]
     },
     "metadata": {},
     "output_type": "display_data"
    }
   ],
   "source": [
    "# visualize the scores\n",
    "plt.figure()\n",
    "plt.plot(C_range, train_scores,label=\"Train Score\",marker='.')\n",
    "plt.plot(C_range, validation_scores,label=\"Validation Scores\",marker='.')\n",
    "plt.xscale('log')\n",
    "plt.xlabel('C')\n",
    "plt.ylabel('Accuracy')\n",
    "plt.legend()\n",
    "plt.show()"
   ]
  },
  {
   "cell_type": "code",
   "execution_count": 105,
   "id": "d7785e2b",
   "metadata": {},
   "outputs": [
    {
     "data": {
      "image/png": "[encoded data removed]",
      "text/plain": [
       "<Figure size 640x480 with 1 Axes>"
      ]
     },
     "metadata": {},
     "output_type": "display_data"
    }
   ],
   "source": [
    "#make the range narrower\n",
    "\n",
    "validation_scores = []\n",
    "train_scores = []\n",
    "\n",
    "C_range = []\n",
    "for i in range(-8, 0):\n",
    "    C_range.append(10**i)\n",
    "\n",
    "for c in C_range:\n",
    "    logreg = LogisticRegression(C = c,random_state=1)\n",
    "    logreg.fit(X1_train_sc,y1_train)\n",
    "    \n",
    "    # train on traning set\n",
    "    train_scores.append(logreg.score(X1_train_sc,y1_train))\n",
    "    # score on validation set\n",
    "    validation_scores.append(logreg.score(X1_validation_sc,y1_valid))\n",
    "\n",
    "#plot\n",
    "# visualize the scores\n",
    "plt.figure()\n",
    "plt.plot(C_range, train_scores,label=\"Train Score\",marker='.')\n",
    "plt.plot(C_range, validation_scores,label=\"Validation Scores\",marker='.')\n",
    "plt.xscale('log')\n",
    "plt.xlabel('C')\n",
    "plt.ylabel('Accuracy')\n",
    "plt.title('the Logistic Regression(LR)')\n",
    "plt.legend()\n",
    "plt.show()"
   ]
  },
  {
   "cell_type": "code",
   "execution_count": 100,
   "id": "e9fa0f34",
   "metadata": {},
   "outputs": [
    {
     "name": "stdout",
     "output_type": "stream",
     "text": [
      "0.655\n"
     ]
    }
   ],
   "source": [
    "final_model = LogisticRegression(C=10**-2,random_state=1)\n",
    "\n",
    "final_model.fit(X1_train_sc,y1_train)\n",
    "print(f'{final_model.score(X1_test_sc,y1_test):0.3f}')"
   ]
  },
  {
   "cell_type": "code",
   "execution_count": 103,
   "id": "487fc8f9",
   "metadata": {},
   "outputs": [
    {
     "data": {
      "text/html": [
       "<div>\n",
       "<style scoped>\n",
       "    .dataframe tbody tr th:only-of-type {\n",
       "        vertical-align: middle;\n",
       "    }\n",
       "\n",
       "    .dataframe tbody tr th {\n",
       "        vertical-align: top;\n",
       "    }\n",
       "\n",
       "    .dataframe thead th {\n",
       "        text-align: right;\n",
       "    }\n",
       "</style>\n",
       "<table border=\"1\" class=\"dataframe\">\n",
       "  <thead>\n",
       "    <tr style=\"text-align: right;\">\n",
       "      <th></th>\n",
       "      <th>Predicted Person (0)</th>\n",
       "      <th>Predicted Society (1)</th>\n",
       "      <th>Predicted Property (2)</th>\n",
       "    </tr>\n",
       "  </thead>\n",
       "  <tbody>\n",
       "    <tr>\n",
       "      <th>Person</th>\n",
       "      <td>2354</td>\n",
       "      <td>622</td>\n",
       "      <td>759</td>\n",
       "    </tr>\n",
       "    <tr>\n",
       "      <th>Society</th>\n",
       "      <td>582</td>\n",
       "      <td>2190</td>\n",
       "      <td>468</td>\n",
       "    </tr>\n",
       "    <tr>\n",
       "      <th>Property</th>\n",
       "      <td>530</td>\n",
       "      <td>218</td>\n",
       "      <td>1495</td>\n",
       "    </tr>\n",
       "  </tbody>\n",
       "</table>\n",
       "</div>"
      ],
      "text/plain": [
       "          Predicted Person (0)  Predicted Society (1)  Predicted Property (2)\n",
       "Person                    2354                    622                     759\n",
       "Society                    582                   2190                     468\n",
       "Property                   530                    218                    1495"
      ]
     },
     "metadata": {},
     "output_type": "display_data"
    },
    {
     "data": {
      "text/plain": [
       "<sklearn.metrics._plot.confusion_matrix.ConfusionMatrixDisplay at 0x2450a552da0>"
      ]
     },
     "execution_count": 103,
     "metadata": {},
     "output_type": "execute_result"
    },
    {
     "data": {
      "image/png": "[encoded data removed]",
      "text/plain": [
       "<Figure size 640x480 with 2 Axes>"
      ]
     },
     "metadata": {},
     "output_type": "display_data"
    }
   ],
   "source": [
    "\n",
    "# Get class predictions\n",
    "y_pred = final_model.predict(X1_test_sc)\n",
    "\n",
    "# Generate confusion matrix\n",
    "cf_matrix = confusion_matrix(y1_test, y_pred)\n",
    "\n",
    "# label rows and columns\n",
    "cf_df = pd.DataFrame(\n",
    "    cf_matrix,\n",
    "    columns=['Predicted Person (0)', 'Predicted Society (1)', 'Predicted Property (2)'],\n",
    "        index=['Person', 'Society', 'Property']\n",
    ")\n",
    "\n",
    "display(cf_df)\n",
    "\n",
    "# the function expects the estimator, inputs and target as parameters\n",
    "ConfusionMatrixDisplay.from_estimator(final_model, X1_test_sc, y1_test)"
   ]
  },
  {
   "attachments": {},
   "cell_type": "markdown",
   "id": "1594801f",
   "metadata": {},
   "source": [
    "Correct Predicttions:\n",
    "- 2354 for Crimes Agains Person (0)\n",
    "- 2190 for Crimes Against Society (1)\n",
    "- 1495 for Crimes Against Property (2)\n",
    "\n",
    "Wrong Predictions\n",
    "- 582 predicted as 0 instead of 1\n",
    "- 530 predicted as 0 instead of 2\n",
    "- 622 predicted as 1 instead of 0\n",
    "- 218 predicted as 1 instead of 2\n",
    "- 759 predicted as 2 instead of 0\n",
    "- 468 predicted as 2 instead of 1"
   ]
  },
  {
   "cell_type": "code",
   "execution_count": 104,
   "id": "8938ce54",
   "metadata": {},
   "outputs": [
    {
     "name": "stdout",
     "output_type": "stream",
     "text": [
      "              precision    recall  f1-score   support\n",
      "\n",
      "           0       0.68      0.63      0.65      3735\n",
      "           1       0.72      0.68      0.70      3240\n",
      "           2       0.55      0.67      0.60      2243\n",
      "\n",
      "    accuracy                           0.66      9218\n",
      "   macro avg       0.65      0.66      0.65      9218\n",
      "weighted avg       0.66      0.66      0.66      9218\n",
      "\n"
     ]
    }
   ],
   "source": [
    "from sklearn.metrics import classification_report\n",
    "\n",
    "report_initial = classification_report(y1_test, y_pred)\n",
    "print(report_initial)"
   ]
  },
  {
   "attachments": {},
   "cell_type": "markdown",
   "id": "30b4cd5b",
   "metadata": {},
   "source": [
    "Precision: how many of them are correctly predicted in the predicted group.\n",
    "recall: how many of them are correctly predictted in the group\n",
    "\n",
    "Crimes Agains Person (0):\n",
    "- 68% is 0 and 32% is 1 or 2 in the predicted group 0 \n",
    "- 63% is 0 in the predicted group 0 and 37% is 0 in the defferent group: 1 or 2\n",
    "\n",
    "Crimes Against Society (1):\n",
    "- 72% is 1 and 28% is 0 or 2 in the predicted group 1 \n",
    "- 68% is 1 in the predicted group 1 and 32% is 1 in the defferent group: 0 or 2\n",
    "\n",
    "Crimes Against Property (2):\n",
    "- 55% is 2 and 45% is 0 or 1 in the predicted group 2\n",
    "- 67% is 2 in the predicted group 2 and 33% is 2 in the defferent group: 0 or 1"
   ]
  }
 ],
 "metadata": {
  "kernelspec": {
   "display_name": "Python 3 (ipykernel)",
   "language": "python",
   "name": "python3"
  },
  "language_info": {
   "codemirror_mode": {
    "name": "ipython",
    "version": 3
   },
   "file_extension": ".py",
   "mimetype": "text/x-python",
   "name": "python",
   "nbconvert_exporter": "python",
   "pygments_lexer": "ipython3",
   "version": "3.10.9"
  }
 },
 "nbformat": 4,
 "nbformat_minor": 5
}
